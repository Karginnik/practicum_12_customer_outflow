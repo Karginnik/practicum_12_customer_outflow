{
 "cells": [
  {
   "cell_type": "markdown",
   "id": "0040c723",
   "metadata": {},
   "source": [
    "# Проект: Прогнозирование оттока клиентов для оператора связи «Ниединогоразрыва.ком»"
   ]
  },
  {
   "cell_type": "markdown",
   "id": "ae17cfea",
   "metadata": {},
   "source": [
    "## 1. План работы\n",
    "\n",
    "### <u>1. План работы</u>\n",
    "### <u>2. Описание проекта</u>\n",
    "- #### 2.1 Описание услуг\n",
    "- #### 2.2 Описание данных\n",
    "\n",
    "### <u>3. Изучение и предобработка данных</u>\n",
    "- #### 3.1 Подготовка к изучению данных\n",
    "- #### 3.2 Изучение и предобработка датафрейма «contract_new.csv»\n",
    "- #### 3.3 Изучение и предобработка датафрейма «personal_new.csv»\n",
    "- #### 3.4 Изучение и предобработка датафрейма «internet_new.csv»\n",
    "- #### 3.5 Изучение и предобработка датафрейма «phone_new.csv»\n",
    "- #### 3.6 Объединение датафреймов и предобработка единого датафрейма\n",
    "- #### 3.7 Вопросы по данным\n",
    "\n",
    "### <u>4. Подготовка данных к обучению модели</u>\n",
    "- #### 4.1 Разделение датафрейма на выборки\n",
    "- #### 4.2 Кодирование данных для линейной модели\n",
    "- #### 4.3 Кодирование данных для модели деревьев\n",
    "- #### 4.4 Кодирование данных для модели градиентного бустинга\n",
    "\n",
    "### <u>5. Подбор гиперпараметров моделей и выбор лучшей модели</u>\n",
    "- #### 5.1 Подбор гиперпараметров и оценка линейной модели\n",
    "- #### 5.2 Подбор гиперпараметров и оценка дерева решений\n",
    "- #### 5.3 Подбор гиперпараметров и оценка случайного леса\n",
    "- #### 5.4 Подбор гиперпараметров и оценка градиентного бустинга CatBoost\n",
    "- #### 5.5 Финальное тестирование лучшей модели\n",
    "- #### 5.6 Сравнение лучшей модели с dummy-моделью\n",
    "\n",
    "### <u>6. Итоговый вывод</u>"
   ]
  },
  {
   "cell_type": "markdown",
   "id": "28002179",
   "metadata": {},
   "source": [
    "## 2. Описание проекта\n",
    "\n",
    "Оператор связи «Ниединогоразрыва.ком» хочет научиться прогнозировать отток клиентов. Если выяснится, что пользователь планирует уйти, ему будут предложены промокоды и специальные условия. Команда оператора собрала персональные данные о некоторых клиентах, информацию об их тарифах и договорах.\n",
    "\n",
    "### 2.1 Описание услуг\n",
    "\n",
    "Оператор предоставляет два основных типа услуг: \n",
    "\n",
    "1. Стационарную телефонную связь. Возможно подключение телефонного аппарата к нескольким линиям одновременно.\n",
    "2. Интернет. Подключение может быть двух типов: через телефонную линию (DSL*,* от англ. *digital subscriber line*, «цифровая абонентская линия») или оптоволоконный кабель (*Fiber optic*).  \n",
    "\n",
    "Также доступны такие услуги:\n",
    "\n",
    "- Интернет-безопасность: антивирус (*DeviceProtection*) и блокировка небезопасных сайтов (*OnlineSecurity*);\n",
    "- Выделенная линия технической поддержки (*TechSupport*);\n",
    "- Облачное хранилище файлов для резервного копирования данных (*OnlineBackup*);\n",
    "- Стриминговое телевидение (*StreamingTV*) и каталог фильмов (*StreamingMovies*).\n",
    "\n",
    "За услуги клиенты могут платить каждый месяц или заключить договор на 1–2 года. Доступны различные способы расчёта и возможность получения электронного чека.\n",
    "\n",
    "### 2.2 Описание данных\n",
    "\n",
    "Данные состоят из файлов, полученных из разных источников:\n",
    "\n",
    "- `contract_new.csv` — информация о договоре;\n",
    "- `personal_new.csv` — персональные данные клиента;\n",
    "- `internet_new.csv` — информация об интернет-услугах;\n",
    "- `phone_new.csv` — информация об услугах телефонии.\n",
    "\n",
    "Во всех файлах столбец `customerID` содержит код клиента.\n",
    "\n",
    "Информация о договорах актуальна на 1 февраля 2020."
   ]
  },
  {
   "cell_type": "markdown",
   "id": "6c580ed9",
   "metadata": {},
   "source": [
    "## 3. Изучение и предобработка данных"
   ]
  },
  {
   "cell_type": "markdown",
   "id": "030a7c05",
   "metadata": {},
   "source": [
    "### 3.1 Подготовка к изучению данных"
   ]
  },
  {
   "cell_type": "markdown",
   "id": "7d77c29b",
   "metadata": {},
   "source": [
    "Импортируем необходимые библиотеки"
   ]
  },
  {
   "cell_type": "code",
   "execution_count": 1,
   "id": "a8a71346",
   "metadata": {},
   "outputs": [],
   "source": [
    "import pandas as pd\n",
    "import numpy as np\n",
    "import matplotlib.pyplot as plt\n",
    "import seaborn as sns\n",
    "import phik\n",
    "\n",
    "from sklearn.tree import DecisionTreeClassifier\n",
    "from sklearn.ensemble import RandomForestClassifier\n",
    "from sklearn.linear_model import LogisticRegression\n",
    "from sklearn.model_selection import train_test_split, GridSearchCV\n",
    "from catboost import CatBoostClassifier\n",
    "from sklearn.dummy import DummyClassifier\n",
    "from sklearn.preprocessing import StandardScaler, OneHotEncoder\n",
    "from sklearn.metrics import roc_auc_score, roc_curve, confusion_matrix, ConfusionMatrixDisplay,\\\n",
    "f1_score, precision_score, recall_score"
   ]
  },
  {
   "cell_type": "markdown",
   "id": "2fde84de",
   "metadata": {},
   "source": [
    "Загрузим датафреймы "
   ]
  },
  {
   "cell_type": "code",
   "execution_count": 2,
   "id": "37a8e387",
   "metadata": {},
   "outputs": [],
   "source": [
    "PTH_1 = '/datasets/contract_new.csv'\n",
    "PTH_2 = '/datasets/personal_new.csv'\n",
    "PTH_3 = '/datasets/internet_new.csv'\n",
    "PTH_4 = '/datasets/phone_new.csv'\n",
    "\n",
    "try:   \n",
    "    df_contract = pd.read_csv('C:/Users/Nikita/Desktop/ending_project' + PTH_1)\n",
    "    df_personal = pd.read_csv('C:/Users/Nikita/Desktop/ending_project' + PTH_2)\n",
    "    df_internet = pd.read_csv('C:/Users/Nikita/Desktop/ending_project' + PTH_3)\n",
    "    df_phone = pd.read_csv('C:/Users/Nikita/Desktop/ending_project' + PTH_4)\n",
    "except:\n",
    "    df_contract = pd.read_csv('https://code.s3.yandex.net/' + PTH_1)\n",
    "    df_personal = pd.read_csv('https://code.s3.yandex.net/' + PTH_2)\n",
    "    df_internet = pd.read_csv('https://code.s3.yandex.net/' + PTH_3)\n",
    "    df_phone = pd.read_csv('https://code.s3.yandex.net/' + PTH_4)"
   ]
  },
  {
   "cell_type": "markdown",
   "id": "378f77bc",
   "metadata": {},
   "source": [
    "### 3.2 Изучение и предобработка датафрейма «contract_new.csv»"
   ]
  },
  {
   "cell_type": "markdown",
   "id": "26c4b088",
   "metadata": {},
   "source": [
    "Выведем первые 10 строк датафрейма «df_contract»"
   ]
  },
  {
   "cell_type": "code",
   "execution_count": 3,
   "id": "710c3530",
   "metadata": {
    "scrolled": true
   },
   "outputs": [
    {
     "data": {
      "text/html": [
       "<div>\n",
       "<style scoped>\n",
       "    .dataframe tbody tr th:only-of-type {\n",
       "        vertical-align: middle;\n",
       "    }\n",
       "\n",
       "    .dataframe tbody tr th {\n",
       "        vertical-align: top;\n",
       "    }\n",
       "\n",
       "    .dataframe thead th {\n",
       "        text-align: right;\n",
       "    }\n",
       "</style>\n",
       "<table border=\"1\" class=\"dataframe\">\n",
       "  <thead>\n",
       "    <tr style=\"text-align: right;\">\n",
       "      <th></th>\n",
       "      <th>customerID</th>\n",
       "      <th>BeginDate</th>\n",
       "      <th>EndDate</th>\n",
       "      <th>Type</th>\n",
       "      <th>PaperlessBilling</th>\n",
       "      <th>PaymentMethod</th>\n",
       "      <th>MonthlyCharges</th>\n",
       "      <th>TotalCharges</th>\n",
       "    </tr>\n",
       "  </thead>\n",
       "  <tbody>\n",
       "    <tr>\n",
       "      <th>0</th>\n",
       "      <td>7590-VHVEG</td>\n",
       "      <td>2020-01-01</td>\n",
       "      <td>No</td>\n",
       "      <td>Month-to-month</td>\n",
       "      <td>Yes</td>\n",
       "      <td>Electronic check</td>\n",
       "      <td>29.85</td>\n",
       "      <td>31.04</td>\n",
       "    </tr>\n",
       "    <tr>\n",
       "      <th>1</th>\n",
       "      <td>5575-GNVDE</td>\n",
       "      <td>2017-04-01</td>\n",
       "      <td>No</td>\n",
       "      <td>One year</td>\n",
       "      <td>No</td>\n",
       "      <td>Mailed check</td>\n",
       "      <td>56.95</td>\n",
       "      <td>2071.84</td>\n",
       "    </tr>\n",
       "    <tr>\n",
       "      <th>2</th>\n",
       "      <td>3668-QPYBK</td>\n",
       "      <td>2019-10-01</td>\n",
       "      <td>No</td>\n",
       "      <td>Month-to-month</td>\n",
       "      <td>Yes</td>\n",
       "      <td>Mailed check</td>\n",
       "      <td>53.85</td>\n",
       "      <td>226.17</td>\n",
       "    </tr>\n",
       "    <tr>\n",
       "      <th>3</th>\n",
       "      <td>7795-CFOCW</td>\n",
       "      <td>2016-05-01</td>\n",
       "      <td>No</td>\n",
       "      <td>One year</td>\n",
       "      <td>No</td>\n",
       "      <td>Bank transfer (automatic)</td>\n",
       "      <td>42.30</td>\n",
       "      <td>1960.6</td>\n",
       "    </tr>\n",
       "    <tr>\n",
       "      <th>4</th>\n",
       "      <td>9237-HQITU</td>\n",
       "      <td>2019-09-01</td>\n",
       "      <td>No</td>\n",
       "      <td>Month-to-month</td>\n",
       "      <td>Yes</td>\n",
       "      <td>Electronic check</td>\n",
       "      <td>70.70</td>\n",
       "      <td>353.5</td>\n",
       "    </tr>\n",
       "    <tr>\n",
       "      <th>5</th>\n",
       "      <td>9305-CDSKC</td>\n",
       "      <td>2019-03-01</td>\n",
       "      <td>No</td>\n",
       "      <td>Month-to-month</td>\n",
       "      <td>Yes</td>\n",
       "      <td>Electronic check</td>\n",
       "      <td>99.65</td>\n",
       "      <td>1150.96</td>\n",
       "    </tr>\n",
       "    <tr>\n",
       "      <th>6</th>\n",
       "      <td>1452-KIOVK</td>\n",
       "      <td>2018-04-01</td>\n",
       "      <td>No</td>\n",
       "      <td>Month-to-month</td>\n",
       "      <td>Yes</td>\n",
       "      <td>Credit card (automatic)</td>\n",
       "      <td>89.10</td>\n",
       "      <td>2058.21</td>\n",
       "    </tr>\n",
       "    <tr>\n",
       "      <th>7</th>\n",
       "      <td>6713-OKOMC</td>\n",
       "      <td>2019-04-01</td>\n",
       "      <td>No</td>\n",
       "      <td>Month-to-month</td>\n",
       "      <td>No</td>\n",
       "      <td>Mailed check</td>\n",
       "      <td>29.75</td>\n",
       "      <td>300.48</td>\n",
       "    </tr>\n",
       "    <tr>\n",
       "      <th>8</th>\n",
       "      <td>7892-POOKP</td>\n",
       "      <td>2017-07-01</td>\n",
       "      <td>No</td>\n",
       "      <td>Month-to-month</td>\n",
       "      <td>Yes</td>\n",
       "      <td>Electronic check</td>\n",
       "      <td>104.80</td>\n",
       "      <td>3573.68</td>\n",
       "    </tr>\n",
       "    <tr>\n",
       "      <th>9</th>\n",
       "      <td>6388-TABGU</td>\n",
       "      <td>2014-12-01</td>\n",
       "      <td>2017-05-01</td>\n",
       "      <td>One year</td>\n",
       "      <td>No</td>\n",
       "      <td>Bank transfer (automatic)</td>\n",
       "      <td>56.15</td>\n",
       "      <td>1628.35</td>\n",
       "    </tr>\n",
       "  </tbody>\n",
       "</table>\n",
       "</div>"
      ],
      "text/plain": [
       "   customerID   BeginDate     EndDate            Type PaperlessBilling  \\\n",
       "0  7590-VHVEG  2020-01-01          No  Month-to-month              Yes   \n",
       "1  5575-GNVDE  2017-04-01          No        One year               No   \n",
       "2  3668-QPYBK  2019-10-01          No  Month-to-month              Yes   \n",
       "3  7795-CFOCW  2016-05-01          No        One year               No   \n",
       "4  9237-HQITU  2019-09-01          No  Month-to-month              Yes   \n",
       "5  9305-CDSKC  2019-03-01          No  Month-to-month              Yes   \n",
       "6  1452-KIOVK  2018-04-01          No  Month-to-month              Yes   \n",
       "7  6713-OKOMC  2019-04-01          No  Month-to-month               No   \n",
       "8  7892-POOKP  2017-07-01          No  Month-to-month              Yes   \n",
       "9  6388-TABGU  2014-12-01  2017-05-01        One year               No   \n",
       "\n",
       "               PaymentMethod  MonthlyCharges TotalCharges  \n",
       "0           Electronic check           29.85        31.04  \n",
       "1               Mailed check           56.95      2071.84  \n",
       "2               Mailed check           53.85       226.17  \n",
       "3  Bank transfer (automatic)           42.30       1960.6  \n",
       "4           Electronic check           70.70        353.5  \n",
       "5           Electronic check           99.65      1150.96  \n",
       "6    Credit card (automatic)           89.10      2058.21  \n",
       "7               Mailed check           29.75       300.48  \n",
       "8           Electronic check          104.80      3573.68  \n",
       "9  Bank transfer (automatic)           56.15      1628.35  "
      ]
     },
     "execution_count": 3,
     "metadata": {},
     "output_type": "execute_result"
    }
   ],
   "source": [
    "df_contract.head(10)"
   ]
  },
  {
   "cell_type": "markdown",
   "id": "313cc8b1",
   "metadata": {},
   "source": [
    "Выведем общую информацию о датафрейме «df_contract»"
   ]
  },
  {
   "cell_type": "code",
   "execution_count": 4,
   "id": "4b17889f",
   "metadata": {
    "scrolled": false
   },
   "outputs": [
    {
     "name": "stdout",
     "output_type": "stream",
     "text": [
      "<class 'pandas.core.frame.DataFrame'>\n",
      "RangeIndex: 7043 entries, 0 to 7042\n",
      "Data columns (total 8 columns):\n",
      " #   Column            Non-Null Count  Dtype  \n",
      "---  ------            --------------  -----  \n",
      " 0   customerID        7043 non-null   object \n",
      " 1   BeginDate         7043 non-null   object \n",
      " 2   EndDate           7043 non-null   object \n",
      " 3   Type              7043 non-null   object \n",
      " 4   PaperlessBilling  7043 non-null   object \n",
      " 5   PaymentMethod     7043 non-null   object \n",
      " 6   MonthlyCharges    7043 non-null   float64\n",
      " 7   TotalCharges      7043 non-null   object \n",
      "dtypes: float64(1), object(7)\n",
      "memory usage: 440.3+ KB\n"
     ]
    }
   ],
   "source": [
    "df_contract.info()"
   ]
  },
  {
   "cell_type": "markdown",
   "id": "3ffc46a8",
   "metadata": {},
   "source": [
    "После первичного осмотра данных выявлены следующие проблемы: \n",
    " - Названия колонок не соответствуют \"змеиному\" стилю\n",
    " - В колонке \"EndDate\" значение \"No\" следует заменить на актуальную дату выгрузки данных\n",
    " - В колонках \"EndDate\" и \"BeginDate\" следует изменить тип данных на \"datetime\"\n",
    " - В колонке \"TotalCharges\" следует изменить тип данных на \"float\""
   ]
  },
  {
   "cell_type": "markdown",
   "id": "35b93990",
   "metadata": {},
   "source": [
    "Изменим названия колонок в соответствии со \"змеиным\" стилем"
   ]
  },
  {
   "cell_type": "code",
   "execution_count": 5,
   "id": "01171811",
   "metadata": {},
   "outputs": [],
   "source": [
    "df_contract = df_contract.rename(columns={'customerID': 'customer_id',\n",
    "                                          'BeginDate': 'begin_date',\n",
    "                                          'EndDate': 'end_date',\n",
    "                                          'Type': 'type',\n",
    "                                          'PaperlessBilling': 'paperless_billing',\n",
    "                                          'PaymentMethod': 'payment_method',\n",
    "                                          'MonthlyCharges': 'monthly_charges',\n",
    "                                          'TotalCharges': 'total_charges'})"
   ]
  },
  {
   "cell_type": "markdown",
   "id": "1c1d2680",
   "metadata": {},
   "source": [
    "В колонке \"end_date\" значение \"No\" заменим на актуальную дату выгрузки данных"
   ]
  },
  {
   "cell_type": "code",
   "execution_count": 6,
   "id": "7d5ecac9",
   "metadata": {},
   "outputs": [],
   "source": [
    "df_contract['end_date'] = df_contract['end_date'].replace('No','2020-02-01')"
   ]
  },
  {
   "cell_type": "markdown",
   "id": "886b1a5c",
   "metadata": {},
   "source": [
    "В колонке \"total_charges\" существую строки с пробелами вместо суммы, это клиенты, которые пользуются услугами первый месяц. Заменим пробелы в данных строках значениями из колонки \"monthly_charges\""
   ]
  },
  {
   "cell_type": "code",
   "execution_count": 7,
   "id": "db0a6204",
   "metadata": {},
   "outputs": [],
   "source": [
    "df_contract.loc[df_contract['total_charges'] == ' ', 'total_charges'] = \\\n",
    "df_contract.loc[df_contract['total_charges'] == ' ', 'monthly_charges']"
   ]
  },
  {
   "cell_type": "markdown",
   "id": "438ea948",
   "metadata": {},
   "source": [
    "Изменим тип данных в колонках, где это необходимо "
   ]
  },
  {
   "cell_type": "code",
   "execution_count": 8,
   "id": "aea14288",
   "metadata": {},
   "outputs": [],
   "source": [
    "df_contract['begin_date'] = pd.to_datetime(df_contract['begin_date'], format='%Y-%m-%d')\n",
    "df_contract['end_date'] = pd.to_datetime(df_contract['end_date'], format='%Y-%m-%d')\n",
    "df_contract['total_charges'] = pd.to_numeric(df_contract['total_charges'])"
   ]
  },
  {
   "cell_type": "markdown",
   "id": "09811ba9",
   "metadata": {},
   "source": [
    "Проверим датафрейм на явные дубликаты"
   ]
  },
  {
   "cell_type": "code",
   "execution_count": 9,
   "id": "93fc9828",
   "metadata": {},
   "outputs": [
    {
     "data": {
      "text/plain": [
       "0"
      ]
     },
     "execution_count": 9,
     "metadata": {},
     "output_type": "execute_result"
    }
   ],
   "source": [
    "df_contract.duplicated().sum()"
   ]
  },
  {
   "cell_type": "markdown",
   "id": "bfaf037d",
   "metadata": {},
   "source": [
    "Проверим датафрейм на неявные дубликаты в колонках, где это необходимо "
   ]
  },
  {
   "cell_type": "code",
   "execution_count": 10,
   "id": "750297c4",
   "metadata": {},
   "outputs": [
    {
     "name": "stdout",
     "output_type": "stream",
     "text": [
      "type: ['Month-to-month', 'One year', 'Two year']\n",
      "paperless_billing: ['Yes', 'No']\n",
      "payment_method: ['Electronic check', 'Mailed check', 'Bank transfer (automatic)', 'Credit card (automatic)']\n"
     ]
    }
   ],
   "source": [
    "print(f'type: {list(df_contract[\"type\"].unique())}\\n\\\n",
    "paperless_billing: {list(df_contract[\"paperless_billing\"].unique())}\\n\\\n",
    "payment_method: {list(df_contract[\"payment_method\"].unique())}')"
   ]
  },
  {
   "cell_type": "markdown",
   "id": "85fdf8d8",
   "metadata": {},
   "source": [
    "Проверим датафрейм на пропуски"
   ]
  },
  {
   "cell_type": "code",
   "execution_count": 11,
   "id": "6ea17dd5",
   "metadata": {
    "scrolled": true
   },
   "outputs": [
    {
     "data": {
      "text/plain": [
       "customer_id          0\n",
       "begin_date           0\n",
       "end_date             0\n",
       "type                 0\n",
       "paperless_billing    0\n",
       "payment_method       0\n",
       "monthly_charges      0\n",
       "total_charges        0\n",
       "dtype: int64"
      ]
     },
     "execution_count": 11,
     "metadata": {},
     "output_type": "execute_result"
    }
   ],
   "source": [
    "df_contract.isna().sum()"
   ]
  },
  {
   "cell_type": "markdown",
   "id": "27fa764d",
   "metadata": {},
   "source": [
    "Выведем первые 5 строк датафрейма и его общую информацию после предобработки "
   ]
  },
  {
   "cell_type": "code",
   "execution_count": 12,
   "id": "607867f1",
   "metadata": {},
   "outputs": [
    {
     "data": {
      "text/html": [
       "<div>\n",
       "<style scoped>\n",
       "    .dataframe tbody tr th:only-of-type {\n",
       "        vertical-align: middle;\n",
       "    }\n",
       "\n",
       "    .dataframe tbody tr th {\n",
       "        vertical-align: top;\n",
       "    }\n",
       "\n",
       "    .dataframe thead th {\n",
       "        text-align: right;\n",
       "    }\n",
       "</style>\n",
       "<table border=\"1\" class=\"dataframe\">\n",
       "  <thead>\n",
       "    <tr style=\"text-align: right;\">\n",
       "      <th></th>\n",
       "      <th>customer_id</th>\n",
       "      <th>begin_date</th>\n",
       "      <th>end_date</th>\n",
       "      <th>type</th>\n",
       "      <th>paperless_billing</th>\n",
       "      <th>payment_method</th>\n",
       "      <th>monthly_charges</th>\n",
       "      <th>total_charges</th>\n",
       "    </tr>\n",
       "  </thead>\n",
       "  <tbody>\n",
       "    <tr>\n",
       "      <th>0</th>\n",
       "      <td>7590-VHVEG</td>\n",
       "      <td>2020-01-01</td>\n",
       "      <td>2020-02-01</td>\n",
       "      <td>Month-to-month</td>\n",
       "      <td>Yes</td>\n",
       "      <td>Electronic check</td>\n",
       "      <td>29.85</td>\n",
       "      <td>31.04</td>\n",
       "    </tr>\n",
       "    <tr>\n",
       "      <th>1</th>\n",
       "      <td>5575-GNVDE</td>\n",
       "      <td>2017-04-01</td>\n",
       "      <td>2020-02-01</td>\n",
       "      <td>One year</td>\n",
       "      <td>No</td>\n",
       "      <td>Mailed check</td>\n",
       "      <td>56.95</td>\n",
       "      <td>2071.84</td>\n",
       "    </tr>\n",
       "    <tr>\n",
       "      <th>2</th>\n",
       "      <td>3668-QPYBK</td>\n",
       "      <td>2019-10-01</td>\n",
       "      <td>2020-02-01</td>\n",
       "      <td>Month-to-month</td>\n",
       "      <td>Yes</td>\n",
       "      <td>Mailed check</td>\n",
       "      <td>53.85</td>\n",
       "      <td>226.17</td>\n",
       "    </tr>\n",
       "    <tr>\n",
       "      <th>3</th>\n",
       "      <td>7795-CFOCW</td>\n",
       "      <td>2016-05-01</td>\n",
       "      <td>2020-02-01</td>\n",
       "      <td>One year</td>\n",
       "      <td>No</td>\n",
       "      <td>Bank transfer (automatic)</td>\n",
       "      <td>42.30</td>\n",
       "      <td>1960.60</td>\n",
       "    </tr>\n",
       "    <tr>\n",
       "      <th>4</th>\n",
       "      <td>9237-HQITU</td>\n",
       "      <td>2019-09-01</td>\n",
       "      <td>2020-02-01</td>\n",
       "      <td>Month-to-month</td>\n",
       "      <td>Yes</td>\n",
       "      <td>Electronic check</td>\n",
       "      <td>70.70</td>\n",
       "      <td>353.50</td>\n",
       "    </tr>\n",
       "  </tbody>\n",
       "</table>\n",
       "</div>"
      ],
      "text/plain": [
       "  customer_id begin_date   end_date            type paperless_billing  \\\n",
       "0  7590-VHVEG 2020-01-01 2020-02-01  Month-to-month               Yes   \n",
       "1  5575-GNVDE 2017-04-01 2020-02-01        One year                No   \n",
       "2  3668-QPYBK 2019-10-01 2020-02-01  Month-to-month               Yes   \n",
       "3  7795-CFOCW 2016-05-01 2020-02-01        One year                No   \n",
       "4  9237-HQITU 2019-09-01 2020-02-01  Month-to-month               Yes   \n",
       "\n",
       "              payment_method  monthly_charges  total_charges  \n",
       "0           Electronic check            29.85          31.04  \n",
       "1               Mailed check            56.95        2071.84  \n",
       "2               Mailed check            53.85         226.17  \n",
       "3  Bank transfer (automatic)            42.30        1960.60  \n",
       "4           Electronic check            70.70         353.50  "
      ]
     },
     "execution_count": 12,
     "metadata": {},
     "output_type": "execute_result"
    }
   ],
   "source": [
    "df_contract.head()"
   ]
  },
  {
   "cell_type": "code",
   "execution_count": 13,
   "id": "990a16aa",
   "metadata": {
    "scrolled": false
   },
   "outputs": [
    {
     "name": "stdout",
     "output_type": "stream",
     "text": [
      "<class 'pandas.core.frame.DataFrame'>\n",
      "RangeIndex: 7043 entries, 0 to 7042\n",
      "Data columns (total 8 columns):\n",
      " #   Column             Non-Null Count  Dtype         \n",
      "---  ------             --------------  -----         \n",
      " 0   customer_id        7043 non-null   object        \n",
      " 1   begin_date         7043 non-null   datetime64[ns]\n",
      " 2   end_date           7043 non-null   datetime64[ns]\n",
      " 3   type               7043 non-null   object        \n",
      " 4   paperless_billing  7043 non-null   object        \n",
      " 5   payment_method     7043 non-null   object        \n",
      " 6   monthly_charges    7043 non-null   float64       \n",
      " 7   total_charges      7043 non-null   float64       \n",
      "dtypes: datetime64[ns](2), float64(2), object(4)\n",
      "memory usage: 440.3+ KB\n"
     ]
    }
   ],
   "source": [
    "df_contract.info()"
   ]
  },
  {
   "cell_type": "markdown",
   "id": "16f5979b",
   "metadata": {},
   "source": [
    "Все выявленные проблемы устранены"
   ]
  },
  {
   "cell_type": "markdown",
   "id": "812b0618",
   "metadata": {},
   "source": [
    "Проверим датафрейм на выбросы"
   ]
  },
  {
   "cell_type": "code",
   "execution_count": 14,
   "id": "04a16146",
   "metadata": {
    "scrolled": false
   },
   "outputs": [
    {
     "data": {
      "text/html": [
       "<div>\n",
       "<style scoped>\n",
       "    .dataframe tbody tr th:only-of-type {\n",
       "        vertical-align: middle;\n",
       "    }\n",
       "\n",
       "    .dataframe tbody tr th {\n",
       "        vertical-align: top;\n",
       "    }\n",
       "\n",
       "    .dataframe thead th {\n",
       "        text-align: right;\n",
       "    }\n",
       "</style>\n",
       "<table border=\"1\" class=\"dataframe\">\n",
       "  <thead>\n",
       "    <tr style=\"text-align: right;\">\n",
       "      <th></th>\n",
       "      <th>monthly_charges</th>\n",
       "      <th>total_charges</th>\n",
       "    </tr>\n",
       "  </thead>\n",
       "  <tbody>\n",
       "    <tr>\n",
       "      <th>count</th>\n",
       "      <td>7043.000000</td>\n",
       "      <td>7043.000000</td>\n",
       "    </tr>\n",
       "    <tr>\n",
       "      <th>mean</th>\n",
       "      <td>64.761692</td>\n",
       "      <td>2115.377573</td>\n",
       "    </tr>\n",
       "    <tr>\n",
       "      <th>std</th>\n",
       "      <td>30.090047</td>\n",
       "      <td>2112.678861</td>\n",
       "    </tr>\n",
       "    <tr>\n",
       "      <th>min</th>\n",
       "      <td>18.250000</td>\n",
       "      <td>19.050000</td>\n",
       "    </tr>\n",
       "    <tr>\n",
       "      <th>25%</th>\n",
       "      <td>35.500000</td>\n",
       "      <td>436.750000</td>\n",
       "    </tr>\n",
       "    <tr>\n",
       "      <th>50%</th>\n",
       "      <td>70.350000</td>\n",
       "      <td>1343.350000</td>\n",
       "    </tr>\n",
       "    <tr>\n",
       "      <th>75%</th>\n",
       "      <td>89.850000</td>\n",
       "      <td>3236.690000</td>\n",
       "    </tr>\n",
       "    <tr>\n",
       "      <th>max</th>\n",
       "      <td>118.750000</td>\n",
       "      <td>9221.380000</td>\n",
       "    </tr>\n",
       "  </tbody>\n",
       "</table>\n",
       "</div>"
      ],
      "text/plain": [
       "       monthly_charges  total_charges\n",
       "count      7043.000000    7043.000000\n",
       "mean         64.761692    2115.377573\n",
       "std          30.090047    2112.678861\n",
       "min          18.250000      19.050000\n",
       "25%          35.500000     436.750000\n",
       "50%          70.350000    1343.350000\n",
       "75%          89.850000    3236.690000\n",
       "max         118.750000    9221.380000"
      ]
     },
     "execution_count": 14,
     "metadata": {},
     "output_type": "execute_result"
    }
   ],
   "source": [
    "df_contract.describe()"
   ]
  },
  {
   "cell_type": "markdown",
   "id": "add5aa6d",
   "metadata": {},
   "source": [
    "Построим \"ящик с усами\" для колонки \"monthly_charges\""
   ]
  },
  {
   "cell_type": "code",
   "execution_count": 15,
   "id": "085f35dc",
   "metadata": {},
   "outputs": [
    {
     "data": {
      "image/png": "[encoded data removed]",
      "text/plain": [
       "<Figure size 640x480 with 1 Axes>"
      ]
     },
     "metadata": {},
     "output_type": "display_data"
    }
   ],
   "source": [
    "sns.boxplot(x=df_contract['monthly_charges'])\n",
    "plt.title('\"Ящик с усами\" для колонки \"monthly_charges\"')\n",
    "plt.xlabel('Monthly charges');"
   ]
  },
  {
   "cell_type": "markdown",
   "id": "03bc0850",
   "metadata": {},
   "source": [
    "Выбросов не обнаружено "
   ]
  },
  {
   "cell_type": "markdown",
   "id": "7d0262e4",
   "metadata": {},
   "source": [
    "Построим \"ящик с усами\" для колонки \"total_charges\""
   ]
  },
  {
   "cell_type": "code",
   "execution_count": 16,
   "id": "a4e402e4",
   "metadata": {
    "scrolled": false
   },
   "outputs": [
    {
     "data": {
      "image/png": "[encoded data removed]",
      "text/plain": [
       "<Figure size 640x480 with 1 Axes>"
      ]
     },
     "metadata": {},
     "output_type": "display_data"
    }
   ],
   "source": [
    "sns.boxplot(x=df_contract['total_charges'])\n",
    "plt.title('\"Ящик с усами\" для колонки \"total_charges\"')\n",
    "plt.xlabel('Total charges');"
   ]
  },
  {
   "cell_type": "markdown",
   "id": "4c617fac",
   "metadata": {},
   "source": [
    "Выбросы обнаружены, но поскольку это колонка с общей суммой, которая была потрачена услуги компании за все время, возможно это клиенты, которые пользуются услугами длительное время. Удалять такие выбросы не стоит"
   ]
  },
  {
   "cell_type": "markdown",
   "id": "378e92bf",
   "metadata": {},
   "source": [
    "Построим гистограммы для колонок, кроме колонок содержащие id клиента и дату, для оценки распределения признаков"
   ]
  },
  {
   "cell_type": "markdown",
   "id": "e63df32a",
   "metadata": {},
   "source": [
    "Гистограмма для колонки \"type\""
   ]
  },
  {
   "cell_type": "code",
   "execution_count": 17,
   "id": "e3c02f30",
   "metadata": {
    "scrolled": false
   },
   "outputs": [
    {
     "data": {
      "image/png": "[encoded data removed]",
      "text/plain": [
       "<Figure size 640x480 with 1 Axes>"
      ]
     },
     "metadata": {},
     "output_type": "display_data"
    }
   ],
   "source": [
    "sns.histplot(data=df_contract['type'])\n",
    "plt.title('Гистограмма для колонки \"type\"')\n",
    "plt.xlabel('Type');"
   ]
  },
  {
   "cell_type": "markdown",
   "id": "4e824e50",
   "metadata": {},
   "source": [
    "Из гистограммы видно, что половина клиентов использую тип оплаты Month-to-month"
   ]
  },
  {
   "cell_type": "markdown",
   "id": "37030626",
   "metadata": {},
   "source": [
    "Гистограмма для колонки \"paperless_billing\""
   ]
  },
  {
   "cell_type": "code",
   "execution_count": 18,
   "id": "8414d947",
   "metadata": {
    "scrolled": false
   },
   "outputs": [
    {
     "data": {
      "image/png": "[encoded data removed]",
      "text/plain": [
       "<Figure size 640x480 with 1 Axes>"
      ]
     },
     "metadata": {},
     "output_type": "display_data"
    }
   ],
   "source": [
    "sns.histplot(data=df_contract['paperless_billing'])\n",
    "plt.title('Гистограмма для колонки \"paperless_billing\"')\n",
    "plt.xlabel('Paperless billing');"
   ]
  },
  {
   "cell_type": "markdown",
   "id": "76747094",
   "metadata": {},
   "source": [
    "Из гистограммы видно, что сильного перевеса в классах нет"
   ]
  },
  {
   "cell_type": "markdown",
   "id": "52dc6ff3",
   "metadata": {},
   "source": [
    "Гистограмма для колонки \"payment_method\""
   ]
  },
  {
   "cell_type": "code",
   "execution_count": 19,
   "id": "f36bd0aa",
   "metadata": {
    "scrolled": false
   },
   "outputs": [
    {
     "data": {
      "image/png": "[encoded data removed]",
      "text/plain": [
       "<Figure size 640x480 with 1 Axes>"
      ]
     },
     "metadata": {},
     "output_type": "display_data"
    }
   ],
   "source": [
    "sns.histplot(data=df_contract['payment_method'], y=df_contract['payment_method'])\n",
    "plt.title('Гистограмма для колонки \"payment_method\"')\n",
    "plt.ylabel('Payment method');"
   ]
  },
  {
   "cell_type": "markdown",
   "id": "ad4fac20",
   "metadata": {},
   "source": [
    "Из гистограммы видно, что большинство клиентов оплачивают через электронный чек. У остальных методов оплаты незначительный перевес классов"
   ]
  },
  {
   "cell_type": "markdown",
   "id": "7c240792",
   "metadata": {},
   "source": [
    "Гистограмма для колонки \"monthly_charges\""
   ]
  },
  {
   "cell_type": "code",
   "execution_count": 20,
   "id": "81633885",
   "metadata": {
    "scrolled": false
   },
   "outputs": [
    {
     "data": {
      "image/png": "[encoded data removed]",
      "text/plain": [
       "<Figure size 640x480 with 1 Axes>"
      ]
     },
     "metadata": {},
     "output_type": "display_data"
    }
   ],
   "source": [
    "sns.histplot(data=df_contract['monthly_charges'], bins=30, kde=True)\n",
    "plt.title('Гистограмма для колонки \"monthly_charges\"')\n",
    "plt.xlabel('Monthly charges');"
   ]
  },
  {
   "cell_type": "markdown",
   "id": "c1421923",
   "metadata": {},
   "source": [
    "Из гистограммы видно, что большинство клиентов платят по минимальному тарифу"
   ]
  },
  {
   "cell_type": "markdown",
   "id": "f298c52d",
   "metadata": {},
   "source": [
    "Гистограмма для колонки \"total_charges\""
   ]
  },
  {
   "cell_type": "code",
   "execution_count": 21,
   "id": "ae99ad00",
   "metadata": {
    "scrolled": false
   },
   "outputs": [
    {
     "data": {
      "image/png": "[encoded data removed]",
      "text/plain": [
       "<Figure size 640x480 with 1 Axes>"
      ]
     },
     "metadata": {},
     "output_type": "display_data"
    }
   ],
   "source": [
    "sns.histplot(data=df_contract['total_charges'], bins=50, kde=True)\n",
    "plt.title('Гистограмма для колонки \"total_charges\"')\n",
    "plt.xlabel('Total charges');"
   ]
  },
  {
   "cell_type": "markdown",
   "id": "9d76e0df",
   "metadata": {},
   "source": [
    "Из гистограммы видно, что большинство клиентов в сумме заплатили меньше 200 "
   ]
  },
  {
   "cell_type": "markdown",
   "id": "0843655a",
   "metadata": {},
   "source": [
    "Исследуем корреляцию признаков"
   ]
  },
  {
   "cell_type": "code",
   "execution_count": 22,
   "id": "b7067ce8",
   "metadata": {},
   "outputs": [
    {
     "name": "stdout",
     "output_type": "stream",
     "text": [
      "interval columns not set, guessing: ['monthly_charges', 'total_charges']\n"
     ]
    },
    {
     "data": {
      "text/html": [
       "<div>\n",
       "<style scoped>\n",
       "    .dataframe tbody tr th:only-of-type {\n",
       "        vertical-align: middle;\n",
       "    }\n",
       "\n",
       "    .dataframe tbody tr th {\n",
       "        vertical-align: top;\n",
       "    }\n",
       "\n",
       "    .dataframe thead th {\n",
       "        text-align: right;\n",
       "    }\n",
       "</style>\n",
       "<table border=\"1\" class=\"dataframe\">\n",
       "  <thead>\n",
       "    <tr style=\"text-align: right;\">\n",
       "      <th></th>\n",
       "      <th>begin_date</th>\n",
       "      <th>end_date</th>\n",
       "      <th>type</th>\n",
       "      <th>paperless_billing</th>\n",
       "      <th>payment_method</th>\n",
       "      <th>monthly_charges</th>\n",
       "      <th>total_charges</th>\n",
       "    </tr>\n",
       "  </thead>\n",
       "  <tbody>\n",
       "    <tr>\n",
       "      <th>begin_date</th>\n",
       "      <td>1.000000</td>\n",
       "      <td>0.548313</td>\n",
       "      <td>0.766249</td>\n",
       "      <td>0.081447</td>\n",
       "      <td>0.456389</td>\n",
       "      <td>0.421886</td>\n",
       "      <td>0.773659</td>\n",
       "    </tr>\n",
       "    <tr>\n",
       "      <th>end_date</th>\n",
       "      <td>0.548313</td>\n",
       "      <td>1.000000</td>\n",
       "      <td>0.285429</td>\n",
       "      <td>0.062936</td>\n",
       "      <td>0.169262</td>\n",
       "      <td>0.173493</td>\n",
       "      <td>0.216439</td>\n",
       "    </tr>\n",
       "    <tr>\n",
       "      <th>type</th>\n",
       "      <td>0.766249</td>\n",
       "      <td>0.285429</td>\n",
       "      <td>1.000000</td>\n",
       "      <td>0.106860</td>\n",
       "      <td>0.277462</td>\n",
       "      <td>0.388444</td>\n",
       "      <td>0.468471</td>\n",
       "    </tr>\n",
       "    <tr>\n",
       "      <th>paperless_billing</th>\n",
       "      <td>0.081447</td>\n",
       "      <td>0.062936</td>\n",
       "      <td>0.106860</td>\n",
       "      <td>1.000000</td>\n",
       "      <td>0.370495</td>\n",
       "      <td>0.467812</td>\n",
       "      <td>0.203144</td>\n",
       "    </tr>\n",
       "    <tr>\n",
       "      <th>payment_method</th>\n",
       "      <td>0.456389</td>\n",
       "      <td>0.169262</td>\n",
       "      <td>0.277462</td>\n",
       "      <td>0.370495</td>\n",
       "      <td>1.000000</td>\n",
       "      <td>0.399526</td>\n",
       "      <td>0.335175</td>\n",
       "    </tr>\n",
       "    <tr>\n",
       "      <th>monthly_charges</th>\n",
       "      <td>0.421886</td>\n",
       "      <td>0.173493</td>\n",
       "      <td>0.388444</td>\n",
       "      <td>0.467812</td>\n",
       "      <td>0.399526</td>\n",
       "      <td>1.000000</td>\n",
       "      <td>0.711029</td>\n",
       "    </tr>\n",
       "    <tr>\n",
       "      <th>total_charges</th>\n",
       "      <td>0.773659</td>\n",
       "      <td>0.216439</td>\n",
       "      <td>0.468471</td>\n",
       "      <td>0.203144</td>\n",
       "      <td>0.335175</td>\n",
       "      <td>0.711029</td>\n",
       "      <td>1.000000</td>\n",
       "    </tr>\n",
       "  </tbody>\n",
       "</table>\n",
       "</div>"
      ],
      "text/plain": [
       "                   begin_date  end_date      type  paperless_billing  \\\n",
       "begin_date           1.000000  0.548313  0.766249           0.081447   \n",
       "end_date             0.548313  1.000000  0.285429           0.062936   \n",
       "type                 0.766249  0.285429  1.000000           0.106860   \n",
       "paperless_billing    0.081447  0.062936  0.106860           1.000000   \n",
       "payment_method       0.456389  0.169262  0.277462           0.370495   \n",
       "monthly_charges      0.421886  0.173493  0.388444           0.467812   \n",
       "total_charges        0.773659  0.216439  0.468471           0.203144   \n",
       "\n",
       "                   payment_method  monthly_charges  total_charges  \n",
       "begin_date               0.456389         0.421886       0.773659  \n",
       "end_date                 0.169262         0.173493       0.216439  \n",
       "type                     0.277462         0.388444       0.468471  \n",
       "paperless_billing        0.370495         0.467812       0.203144  \n",
       "payment_method           1.000000         0.399526       0.335175  \n",
       "monthly_charges          0.399526         1.000000       0.711029  \n",
       "total_charges            0.335175         0.711029       1.000000  "
      ]
     },
     "execution_count": 22,
     "metadata": {},
     "output_type": "execute_result"
    }
   ],
   "source": [
    "df_contract.drop(['customer_id'], axis=1).phik_matrix()"
   ]
  },
  {
   "cell_type": "markdown",
   "id": "b6666644",
   "metadata": {},
   "source": [
    "После исследования обнаружена корреляция между: \n",
    " - begin_date и total_charges - 0.773659\n",
    " - begin_date и type - 0.766249\n",
    " - total_charges и monthly_charges - 0.711029"
   ]
  },
  {
   "cell_type": "markdown",
   "id": "eda2ce25",
   "metadata": {},
   "source": [
    "**Вывод:**\n",
    "\n",
    " В процессе работы с датафреймом «contract_new.csv» произведены следующие изменения:\n",
    "\n",
    "- заголовки переименованы в соответствии со \"змеином\" стилем\n",
    "- изменены типы данных колонок begin_date, end_date, total_charges\n",
    "- значение \"No\" в колонке end_date заменено на актуальную дату выгрузки\n",
    "- Пустые значения в колонке total_charges заменены на значения колонки monthly_charges\n",
    "\n",
    "Дубликаты, пропуски и явные выбросы не обнаружены. Присутствует перевес в некоторых колонках, которые содержат категориальные признаки. Также на гистограммах для колонок total_charges и monthly_charges виден перевес, который стримится к минимальной сумме. \n",
    " \n",
    "Обнаружена корреляция между признаками: \n",
    "\n",
    "- begin_date и total_charges - 0.773659\n",
    "- begin_date и type - 0.766249\n",
    "- total_charges и monthly_charges - 0.711029"
   ]
  },
  {
   "cell_type": "markdown",
   "id": "070b3b16",
   "metadata": {},
   "source": [
    "### 3.3 Изучение и предобработка датафрейма «personal_new.csv»"
   ]
  },
  {
   "cell_type": "markdown",
   "id": "b18aec8d",
   "metadata": {},
   "source": [
    "Выведем первые 10 строк датафрейма «df_personal»"
   ]
  },
  {
   "cell_type": "code",
   "execution_count": 23,
   "id": "d03cf2ee",
   "metadata": {
    "scrolled": false
   },
   "outputs": [
    {
     "data": {
      "text/html": [
       "<div>\n",
       "<style scoped>\n",
       "    .dataframe tbody tr th:only-of-type {\n",
       "        vertical-align: middle;\n",
       "    }\n",
       "\n",
       "    .dataframe tbody tr th {\n",
       "        vertical-align: top;\n",
       "    }\n",
       "\n",
       "    .dataframe thead th {\n",
       "        text-align: right;\n",
       "    }\n",
       "</style>\n",
       "<table border=\"1\" class=\"dataframe\">\n",
       "  <thead>\n",
       "    <tr style=\"text-align: right;\">\n",
       "      <th></th>\n",
       "      <th>customerID</th>\n",
       "      <th>gender</th>\n",
       "      <th>SeniorCitizen</th>\n",
       "      <th>Partner</th>\n",
       "      <th>Dependents</th>\n",
       "    </tr>\n",
       "  </thead>\n",
       "  <tbody>\n",
       "    <tr>\n",
       "      <th>0</th>\n",
       "      <td>7590-VHVEG</td>\n",
       "      <td>Female</td>\n",
       "      <td>0</td>\n",
       "      <td>Yes</td>\n",
       "      <td>No</td>\n",
       "    </tr>\n",
       "    <tr>\n",
       "      <th>1</th>\n",
       "      <td>5575-GNVDE</td>\n",
       "      <td>Male</td>\n",
       "      <td>0</td>\n",
       "      <td>No</td>\n",
       "      <td>No</td>\n",
       "    </tr>\n",
       "    <tr>\n",
       "      <th>2</th>\n",
       "      <td>3668-QPYBK</td>\n",
       "      <td>Male</td>\n",
       "      <td>0</td>\n",
       "      <td>No</td>\n",
       "      <td>No</td>\n",
       "    </tr>\n",
       "    <tr>\n",
       "      <th>3</th>\n",
       "      <td>7795-CFOCW</td>\n",
       "      <td>Male</td>\n",
       "      <td>0</td>\n",
       "      <td>No</td>\n",
       "      <td>No</td>\n",
       "    </tr>\n",
       "    <tr>\n",
       "      <th>4</th>\n",
       "      <td>9237-HQITU</td>\n",
       "      <td>Female</td>\n",
       "      <td>0</td>\n",
       "      <td>No</td>\n",
       "      <td>No</td>\n",
       "    </tr>\n",
       "    <tr>\n",
       "      <th>5</th>\n",
       "      <td>9305-CDSKC</td>\n",
       "      <td>Female</td>\n",
       "      <td>0</td>\n",
       "      <td>No</td>\n",
       "      <td>No</td>\n",
       "    </tr>\n",
       "    <tr>\n",
       "      <th>6</th>\n",
       "      <td>1452-KIOVK</td>\n",
       "      <td>Male</td>\n",
       "      <td>0</td>\n",
       "      <td>No</td>\n",
       "      <td>Yes</td>\n",
       "    </tr>\n",
       "    <tr>\n",
       "      <th>7</th>\n",
       "      <td>6713-OKOMC</td>\n",
       "      <td>Female</td>\n",
       "      <td>0</td>\n",
       "      <td>No</td>\n",
       "      <td>No</td>\n",
       "    </tr>\n",
       "    <tr>\n",
       "      <th>8</th>\n",
       "      <td>7892-POOKP</td>\n",
       "      <td>Female</td>\n",
       "      <td>0</td>\n",
       "      <td>Yes</td>\n",
       "      <td>No</td>\n",
       "    </tr>\n",
       "    <tr>\n",
       "      <th>9</th>\n",
       "      <td>6388-TABGU</td>\n",
       "      <td>Male</td>\n",
       "      <td>0</td>\n",
       "      <td>No</td>\n",
       "      <td>Yes</td>\n",
       "    </tr>\n",
       "  </tbody>\n",
       "</table>\n",
       "</div>"
      ],
      "text/plain": [
       "   customerID  gender  SeniorCitizen Partner Dependents\n",
       "0  7590-VHVEG  Female              0     Yes         No\n",
       "1  5575-GNVDE    Male              0      No         No\n",
       "2  3668-QPYBK    Male              0      No         No\n",
       "3  7795-CFOCW    Male              0      No         No\n",
       "4  9237-HQITU  Female              0      No         No\n",
       "5  9305-CDSKC  Female              0      No         No\n",
       "6  1452-KIOVK    Male              0      No        Yes\n",
       "7  6713-OKOMC  Female              0      No         No\n",
       "8  7892-POOKP  Female              0     Yes         No\n",
       "9  6388-TABGU    Male              0      No        Yes"
      ]
     },
     "execution_count": 23,
     "metadata": {},
     "output_type": "execute_result"
    }
   ],
   "source": [
    "df_personal.head(10)"
   ]
  },
  {
   "cell_type": "markdown",
   "id": "635b9cd0",
   "metadata": {},
   "source": [
    "Выведем общую информацию о датафрейме «df_personal»"
   ]
  },
  {
   "cell_type": "code",
   "execution_count": 24,
   "id": "14421d90",
   "metadata": {
    "scrolled": false
   },
   "outputs": [
    {
     "name": "stdout",
     "output_type": "stream",
     "text": [
      "<class 'pandas.core.frame.DataFrame'>\n",
      "RangeIndex: 7043 entries, 0 to 7042\n",
      "Data columns (total 5 columns):\n",
      " #   Column         Non-Null Count  Dtype \n",
      "---  ------         --------------  ----- \n",
      " 0   customerID     7043 non-null   object\n",
      " 1   gender         7043 non-null   object\n",
      " 2   SeniorCitizen  7043 non-null   int64 \n",
      " 3   Partner        7043 non-null   object\n",
      " 4   Dependents     7043 non-null   object\n",
      "dtypes: int64(1), object(4)\n",
      "memory usage: 275.2+ KB\n"
     ]
    }
   ],
   "source": [
    "df_personal.info()"
   ]
  },
  {
   "cell_type": "markdown",
   "id": "78f373c2",
   "metadata": {},
   "source": [
    "После первичного осмотра данных выявлены следующие проблемы: \n",
    " - Названия колонок не соответствуют \"змеиному\" стилю\n",
    " - В колонке SeniorCitizen используется обозначение \"0\" и \"1\" вместо \"No\" и \"Yes\""
   ]
  },
  {
   "cell_type": "markdown",
   "id": "a1214978",
   "metadata": {},
   "source": [
    "Изменим названия колонок в соответствии со \"змеиным\" стилем"
   ]
  },
  {
   "cell_type": "code",
   "execution_count": 25,
   "id": "b8d07421",
   "metadata": {},
   "outputs": [],
   "source": [
    "df_personal = df_personal.rename(columns={'customerID': 'customer_id',\n",
    "                                          'SeniorCitizen': 'senior_citizen',\n",
    "                                          'Partner': 'partner',\n",
    "                                          'Dependents': 'dependents'})"
   ]
  },
  {
   "cell_type": "markdown",
   "id": "ef11d04f",
   "metadata": {},
   "source": [
    "Заменим обозначения в колонке «senior_citizen» на обозначения \"No\" и \"Yes\""
   ]
  },
  {
   "cell_type": "code",
   "execution_count": 26,
   "id": "f3b72e49",
   "metadata": {},
   "outputs": [],
   "source": [
    "df_personal['senior_citizen'] = df_personal['senior_citizen'].replace([0, 1],['No', 'Yes'])"
   ]
  },
  {
   "cell_type": "markdown",
   "id": "65f3b8b1",
   "metadata": {},
   "source": [
    "Проверим датафрейм на явные дубликаты"
   ]
  },
  {
   "cell_type": "code",
   "execution_count": 27,
   "id": "e8d98553",
   "metadata": {},
   "outputs": [
    {
     "data": {
      "text/plain": [
       "0"
      ]
     },
     "execution_count": 27,
     "metadata": {},
     "output_type": "execute_result"
    }
   ],
   "source": [
    "df_personal.duplicated().sum()"
   ]
  },
  {
   "cell_type": "markdown",
   "id": "fbb21d66",
   "metadata": {},
   "source": [
    "Проверим датафрейм на неявные дубликаты в колонках, где это необходимо "
   ]
  },
  {
   "cell_type": "code",
   "execution_count": 28,
   "id": "26593bbc",
   "metadata": {},
   "outputs": [
    {
     "name": "stdout",
     "output_type": "stream",
     "text": [
      "gender: ['Female', 'Male']\n",
      "partner: ['Yes', 'No']\n",
      "dependents: ['No', 'Yes']\n"
     ]
    }
   ],
   "source": [
    "print(f'gender: {list(df_personal[\"gender\"].unique())}\\n\\\n",
    "partner: {list(df_personal[\"partner\"].unique())}\\n\\\n",
    "dependents: {list(df_personal[\"dependents\"].unique())}')"
   ]
  },
  {
   "cell_type": "markdown",
   "id": "cd488fdb",
   "metadata": {},
   "source": [
    "Проверим датафрейм на пропуски"
   ]
  },
  {
   "cell_type": "code",
   "execution_count": 29,
   "id": "dc11e01c",
   "metadata": {},
   "outputs": [
    {
     "data": {
      "text/plain": [
       "customer_id       0\n",
       "gender            0\n",
       "senior_citizen    0\n",
       "partner           0\n",
       "dependents        0\n",
       "dtype: int64"
      ]
     },
     "execution_count": 29,
     "metadata": {},
     "output_type": "execute_result"
    }
   ],
   "source": [
    "df_personal.isna().sum()"
   ]
  },
  {
   "cell_type": "markdown",
   "id": "df72f2e5",
   "metadata": {},
   "source": [
    "Выведем первые 5 строк датафрейма и его общую информацию после предобработки "
   ]
  },
  {
   "cell_type": "code",
   "execution_count": 30,
   "id": "e9e67b82",
   "metadata": {},
   "outputs": [
    {
     "data": {
      "text/html": [
       "<div>\n",
       "<style scoped>\n",
       "    .dataframe tbody tr th:only-of-type {\n",
       "        vertical-align: middle;\n",
       "    }\n",
       "\n",
       "    .dataframe tbody tr th {\n",
       "        vertical-align: top;\n",
       "    }\n",
       "\n",
       "    .dataframe thead th {\n",
       "        text-align: right;\n",
       "    }\n",
       "</style>\n",
       "<table border=\"1\" class=\"dataframe\">\n",
       "  <thead>\n",
       "    <tr style=\"text-align: right;\">\n",
       "      <th></th>\n",
       "      <th>customer_id</th>\n",
       "      <th>gender</th>\n",
       "      <th>senior_citizen</th>\n",
       "      <th>partner</th>\n",
       "      <th>dependents</th>\n",
       "    </tr>\n",
       "  </thead>\n",
       "  <tbody>\n",
       "    <tr>\n",
       "      <th>0</th>\n",
       "      <td>7590-VHVEG</td>\n",
       "      <td>Female</td>\n",
       "      <td>No</td>\n",
       "      <td>Yes</td>\n",
       "      <td>No</td>\n",
       "    </tr>\n",
       "    <tr>\n",
       "      <th>1</th>\n",
       "      <td>5575-GNVDE</td>\n",
       "      <td>Male</td>\n",
       "      <td>No</td>\n",
       "      <td>No</td>\n",
       "      <td>No</td>\n",
       "    </tr>\n",
       "    <tr>\n",
       "      <th>2</th>\n",
       "      <td>3668-QPYBK</td>\n",
       "      <td>Male</td>\n",
       "      <td>No</td>\n",
       "      <td>No</td>\n",
       "      <td>No</td>\n",
       "    </tr>\n",
       "    <tr>\n",
       "      <th>3</th>\n",
       "      <td>7795-CFOCW</td>\n",
       "      <td>Male</td>\n",
       "      <td>No</td>\n",
       "      <td>No</td>\n",
       "      <td>No</td>\n",
       "    </tr>\n",
       "    <tr>\n",
       "      <th>4</th>\n",
       "      <td>9237-HQITU</td>\n",
       "      <td>Female</td>\n",
       "      <td>No</td>\n",
       "      <td>No</td>\n",
       "      <td>No</td>\n",
       "    </tr>\n",
       "  </tbody>\n",
       "</table>\n",
       "</div>"
      ],
      "text/plain": [
       "  customer_id  gender senior_citizen partner dependents\n",
       "0  7590-VHVEG  Female             No     Yes         No\n",
       "1  5575-GNVDE    Male             No      No         No\n",
       "2  3668-QPYBK    Male             No      No         No\n",
       "3  7795-CFOCW    Male             No      No         No\n",
       "4  9237-HQITU  Female             No      No         No"
      ]
     },
     "execution_count": 30,
     "metadata": {},
     "output_type": "execute_result"
    }
   ],
   "source": [
    "df_personal.head()"
   ]
  },
  {
   "cell_type": "code",
   "execution_count": 31,
   "id": "3ea4bfe9",
   "metadata": {},
   "outputs": [
    {
     "name": "stdout",
     "output_type": "stream",
     "text": [
      "<class 'pandas.core.frame.DataFrame'>\n",
      "RangeIndex: 7043 entries, 0 to 7042\n",
      "Data columns (total 5 columns):\n",
      " #   Column          Non-Null Count  Dtype \n",
      "---  ------          --------------  ----- \n",
      " 0   customer_id     7043 non-null   object\n",
      " 1   gender          7043 non-null   object\n",
      " 2   senior_citizen  7043 non-null   object\n",
      " 3   partner         7043 non-null   object\n",
      " 4   dependents      7043 non-null   object\n",
      "dtypes: object(5)\n",
      "memory usage: 275.2+ KB\n"
     ]
    }
   ],
   "source": [
    "df_personal.info()"
   ]
  },
  {
   "cell_type": "markdown",
   "id": "fa657346",
   "metadata": {},
   "source": [
    "Все выявленные проблемы устранены"
   ]
  },
  {
   "cell_type": "markdown",
   "id": "9eace162",
   "metadata": {},
   "source": [
    "Построим гистограммы для колонок, кроме колонок содержащие id клиента и дату, для оценки распределения признаков"
   ]
  },
  {
   "cell_type": "markdown",
   "id": "71a146b5",
   "metadata": {},
   "source": [
    "Гистограмма для колонки \"gender\""
   ]
  },
  {
   "cell_type": "code",
   "execution_count": 32,
   "id": "ed76baad",
   "metadata": {
    "scrolled": false
   },
   "outputs": [
    {
     "data": {
      "image/png": "[encoded data removed]",
      "text/plain": [
       "<Figure size 640x480 with 1 Axes>"
      ]
     },
     "metadata": {},
     "output_type": "display_data"
    }
   ],
   "source": [
    "sns.histplot(data=df_personal['gender'])\n",
    "plt.title('Гистограмма для колонки \"gender\"')\n",
    "plt.xlabel('Gender');"
   ]
  },
  {
   "cell_type": "markdown",
   "id": "bc8d9a63",
   "metadata": {},
   "source": [
    "Из гистограммы видно, что сильного перевеса в классах нет"
   ]
  },
  {
   "cell_type": "markdown",
   "id": "17126d59",
   "metadata": {},
   "source": [
    "Гистограмма для колонки \"senior_citizen\""
   ]
  },
  {
   "cell_type": "code",
   "execution_count": 33,
   "id": "331ebc13",
   "metadata": {
    "scrolled": false
   },
   "outputs": [
    {
     "data": {
      "image/png": "[encoded data removed]",
      "text/plain": [
       "<Figure size 640x480 with 1 Axes>"
      ]
     },
     "metadata": {},
     "output_type": "display_data"
    }
   ],
   "source": [
    "sns.histplot(data=df_personal['senior_citizen'])\n",
    "plt.title('Гистограмма для колонки \"senior_citizen\"')\n",
    "plt.xlabel('Senior citizen');"
   ]
  },
  {
   "cell_type": "markdown",
   "id": "c1c1629d",
   "metadata": {},
   "source": [
    "Из гистограммы видно, что класс \"No\" имеет сильный перевес перед классом \"Yes\""
   ]
  },
  {
   "cell_type": "markdown",
   "id": "303bc009",
   "metadata": {},
   "source": [
    "Гистограмма для колонки \"partner\""
   ]
  },
  {
   "cell_type": "code",
   "execution_count": 34,
   "id": "dcd2dfc5",
   "metadata": {
    "scrolled": false
   },
   "outputs": [
    {
     "data": {
      "image/png": "[encoded data removed]",
      "text/plain": [
       "<Figure size 640x480 with 1 Axes>"
      ]
     },
     "metadata": {},
     "output_type": "display_data"
    }
   ],
   "source": [
    "sns.histplot(data=df_personal['partner'])\n",
    "plt.title('Гистограмма для колонки \"partner\"')\n",
    "plt.xlabel('Partner');"
   ]
  },
  {
   "cell_type": "markdown",
   "id": "626e9a53",
   "metadata": {},
   "source": [
    "Из гистограммы видно, что сильного перевеса в классах нет"
   ]
  },
  {
   "cell_type": "markdown",
   "id": "5ba3d075",
   "metadata": {},
   "source": [
    "Гистограмма для колонки \"dependents\""
   ]
  },
  {
   "cell_type": "code",
   "execution_count": 35,
   "id": "2e09c38a",
   "metadata": {
    "scrolled": false
   },
   "outputs": [
    {
     "data": {
      "image/png": "[encoded data removed]",
      "text/plain": [
       "<Figure size 640x480 with 1 Axes>"
      ]
     },
     "metadata": {},
     "output_type": "display_data"
    }
   ],
   "source": [
    "sns.histplot(data=df_personal['dependents'])\n",
    "plt.title('Гистограмма для колонки \"dependents\"')\n",
    "plt.xlabel('Dependents');"
   ]
  },
  {
   "cell_type": "markdown",
   "id": "142ad22a",
   "metadata": {},
   "source": [
    "Из гистограммы видно, что класс \"No\" имеет перевес в 2 раза перед классом \"Yes\""
   ]
  },
  {
   "cell_type": "markdown",
   "id": "214a306f",
   "metadata": {},
   "source": [
    "Исследуем корреляцию признаков"
   ]
  },
  {
   "cell_type": "code",
   "execution_count": 36,
   "id": "3c68ff6c",
   "metadata": {},
   "outputs": [
    {
     "data": {
      "text/html": [
       "<div>\n",
       "<style scoped>\n",
       "    .dataframe tbody tr th:only-of-type {\n",
       "        vertical-align: middle;\n",
       "    }\n",
       "\n",
       "    .dataframe tbody tr th {\n",
       "        vertical-align: top;\n",
       "    }\n",
       "\n",
       "    .dataframe thead th {\n",
       "        text-align: right;\n",
       "    }\n",
       "</style>\n",
       "<table border=\"1\" class=\"dataframe\">\n",
       "  <thead>\n",
       "    <tr style=\"text-align: right;\">\n",
       "      <th></th>\n",
       "      <th>gender</th>\n",
       "      <th>senior_citizen</th>\n",
       "      <th>partner</th>\n",
       "      <th>dependents</th>\n",
       "    </tr>\n",
       "  </thead>\n",
       "  <tbody>\n",
       "    <tr>\n",
       "      <th>gender</th>\n",
       "      <td>1.0</td>\n",
       "      <td>0.000000</td>\n",
       "      <td>0.000000</td>\n",
       "      <td>0.000000</td>\n",
       "    </tr>\n",
       "    <tr>\n",
       "      <th>senior_citizen</th>\n",
       "      <td>0.0</td>\n",
       "      <td>1.000000</td>\n",
       "      <td>0.016992</td>\n",
       "      <td>0.324576</td>\n",
       "    </tr>\n",
       "    <tr>\n",
       "      <th>partner</th>\n",
       "      <td>0.0</td>\n",
       "      <td>0.016992</td>\n",
       "      <td>1.000000</td>\n",
       "      <td>0.652122</td>\n",
       "    </tr>\n",
       "    <tr>\n",
       "      <th>dependents</th>\n",
       "      <td>0.0</td>\n",
       "      <td>0.324576</td>\n",
       "      <td>0.652122</td>\n",
       "      <td>1.000000</td>\n",
       "    </tr>\n",
       "  </tbody>\n",
       "</table>\n",
       "</div>"
      ],
      "text/plain": [
       "                gender  senior_citizen   partner  dependents\n",
       "gender             1.0        0.000000  0.000000    0.000000\n",
       "senior_citizen     0.0        1.000000  0.016992    0.324576\n",
       "partner            0.0        0.016992  1.000000    0.652122\n",
       "dependents         0.0        0.324576  0.652122    1.000000"
      ]
     },
     "execution_count": 36,
     "metadata": {},
     "output_type": "execute_result"
    }
   ],
   "source": [
    "df_personal.drop(['customer_id'], axis=1).phik_matrix()"
   ]
  },
  {
   "cell_type": "markdown",
   "id": "c8d1ed8f",
   "metadata": {},
   "source": [
    "После исследования обнаружена корреляция между: \n",
    " - dependents и partner - 0.652122\n"
   ]
  },
  {
   "cell_type": "markdown",
   "id": "d9379f8e",
   "metadata": {},
   "source": [
    "**Вывод:**\n",
    "\n",
    " В процессе работы с датафреймом «personal_new.csv» произведены следующие изменения:\n",
    "\n",
    "- заголовки переименованы в соответствии со \"змеином\" стилем\n",
    "- заменены обозначения в колонке «senior_citizen» на обозначения \"No\" и \"Yes\"\n",
    "\n",
    "Дубликаты и пропуски не обнаружены. Присутствует перевес в некоторых колонках, которые содержат категориальные признаки.\n",
    " \n",
    "Обнаружена корреляция между признаками: \n",
    "\n",
    "- dependents и partner - 0.652122"
   ]
  },
  {
   "cell_type": "markdown",
   "id": "84bc1986",
   "metadata": {},
   "source": [
    "### 3.4 Изучение и предобработка датафрейма «internet_new.csv»"
   ]
  },
  {
   "cell_type": "markdown",
   "id": "549101ce",
   "metadata": {},
   "source": [
    "Выведем первые 10 строк датафрейма «df_internet»"
   ]
  },
  {
   "cell_type": "code",
   "execution_count": 37,
   "id": "8b101870",
   "metadata": {},
   "outputs": [
    {
     "data": {
      "text/html": [
       "<div>\n",
       "<style scoped>\n",
       "    .dataframe tbody tr th:only-of-type {\n",
       "        vertical-align: middle;\n",
       "    }\n",
       "\n",
       "    .dataframe tbody tr th {\n",
       "        vertical-align: top;\n",
       "    }\n",
       "\n",
       "    .dataframe thead th {\n",
       "        text-align: right;\n",
       "    }\n",
       "</style>\n",
       "<table border=\"1\" class=\"dataframe\">\n",
       "  <thead>\n",
       "    <tr style=\"text-align: right;\">\n",
       "      <th></th>\n",
       "      <th>customerID</th>\n",
       "      <th>InternetService</th>\n",
       "      <th>OnlineSecurity</th>\n",
       "      <th>OnlineBackup</th>\n",
       "      <th>DeviceProtection</th>\n",
       "      <th>TechSupport</th>\n",
       "      <th>StreamingTV</th>\n",
       "      <th>StreamingMovies</th>\n",
       "    </tr>\n",
       "  </thead>\n",
       "  <tbody>\n",
       "    <tr>\n",
       "      <th>0</th>\n",
       "      <td>7590-VHVEG</td>\n",
       "      <td>DSL</td>\n",
       "      <td>No</td>\n",
       "      <td>Yes</td>\n",
       "      <td>No</td>\n",
       "      <td>No</td>\n",
       "      <td>No</td>\n",
       "      <td>No</td>\n",
       "    </tr>\n",
       "    <tr>\n",
       "      <th>1</th>\n",
       "      <td>5575-GNVDE</td>\n",
       "      <td>DSL</td>\n",
       "      <td>Yes</td>\n",
       "      <td>No</td>\n",
       "      <td>Yes</td>\n",
       "      <td>No</td>\n",
       "      <td>No</td>\n",
       "      <td>No</td>\n",
       "    </tr>\n",
       "    <tr>\n",
       "      <th>2</th>\n",
       "      <td>3668-QPYBK</td>\n",
       "      <td>DSL</td>\n",
       "      <td>Yes</td>\n",
       "      <td>Yes</td>\n",
       "      <td>No</td>\n",
       "      <td>No</td>\n",
       "      <td>No</td>\n",
       "      <td>No</td>\n",
       "    </tr>\n",
       "    <tr>\n",
       "      <th>3</th>\n",
       "      <td>7795-CFOCW</td>\n",
       "      <td>DSL</td>\n",
       "      <td>Yes</td>\n",
       "      <td>No</td>\n",
       "      <td>Yes</td>\n",
       "      <td>Yes</td>\n",
       "      <td>No</td>\n",
       "      <td>No</td>\n",
       "    </tr>\n",
       "    <tr>\n",
       "      <th>4</th>\n",
       "      <td>9237-HQITU</td>\n",
       "      <td>Fiber optic</td>\n",
       "      <td>No</td>\n",
       "      <td>No</td>\n",
       "      <td>No</td>\n",
       "      <td>No</td>\n",
       "      <td>No</td>\n",
       "      <td>No</td>\n",
       "    </tr>\n",
       "    <tr>\n",
       "      <th>5</th>\n",
       "      <td>9305-CDSKC</td>\n",
       "      <td>Fiber optic</td>\n",
       "      <td>No</td>\n",
       "      <td>No</td>\n",
       "      <td>Yes</td>\n",
       "      <td>No</td>\n",
       "      <td>Yes</td>\n",
       "      <td>Yes</td>\n",
       "    </tr>\n",
       "    <tr>\n",
       "      <th>6</th>\n",
       "      <td>1452-KIOVK</td>\n",
       "      <td>Fiber optic</td>\n",
       "      <td>No</td>\n",
       "      <td>Yes</td>\n",
       "      <td>No</td>\n",
       "      <td>No</td>\n",
       "      <td>Yes</td>\n",
       "      <td>No</td>\n",
       "    </tr>\n",
       "    <tr>\n",
       "      <th>7</th>\n",
       "      <td>6713-OKOMC</td>\n",
       "      <td>DSL</td>\n",
       "      <td>Yes</td>\n",
       "      <td>No</td>\n",
       "      <td>No</td>\n",
       "      <td>No</td>\n",
       "      <td>No</td>\n",
       "      <td>No</td>\n",
       "    </tr>\n",
       "    <tr>\n",
       "      <th>8</th>\n",
       "      <td>7892-POOKP</td>\n",
       "      <td>Fiber optic</td>\n",
       "      <td>No</td>\n",
       "      <td>No</td>\n",
       "      <td>Yes</td>\n",
       "      <td>Yes</td>\n",
       "      <td>Yes</td>\n",
       "      <td>Yes</td>\n",
       "    </tr>\n",
       "    <tr>\n",
       "      <th>9</th>\n",
       "      <td>6388-TABGU</td>\n",
       "      <td>DSL</td>\n",
       "      <td>Yes</td>\n",
       "      <td>Yes</td>\n",
       "      <td>No</td>\n",
       "      <td>No</td>\n",
       "      <td>No</td>\n",
       "      <td>No</td>\n",
       "    </tr>\n",
       "  </tbody>\n",
       "</table>\n",
       "</div>"
      ],
      "text/plain": [
       "   customerID InternetService OnlineSecurity OnlineBackup DeviceProtection  \\\n",
       "0  7590-VHVEG             DSL             No          Yes               No   \n",
       "1  5575-GNVDE             DSL            Yes           No              Yes   \n",
       "2  3668-QPYBK             DSL            Yes          Yes               No   \n",
       "3  7795-CFOCW             DSL            Yes           No              Yes   \n",
       "4  9237-HQITU     Fiber optic             No           No               No   \n",
       "5  9305-CDSKC     Fiber optic             No           No              Yes   \n",
       "6  1452-KIOVK     Fiber optic             No          Yes               No   \n",
       "7  6713-OKOMC             DSL            Yes           No               No   \n",
       "8  7892-POOKP     Fiber optic             No           No              Yes   \n",
       "9  6388-TABGU             DSL            Yes          Yes               No   \n",
       "\n",
       "  TechSupport StreamingTV StreamingMovies  \n",
       "0          No          No              No  \n",
       "1          No          No              No  \n",
       "2          No          No              No  \n",
       "3         Yes          No              No  \n",
       "4          No          No              No  \n",
       "5          No         Yes             Yes  \n",
       "6          No         Yes              No  \n",
       "7          No          No              No  \n",
       "8         Yes         Yes             Yes  \n",
       "9          No          No              No  "
      ]
     },
     "execution_count": 37,
     "metadata": {},
     "output_type": "execute_result"
    }
   ],
   "source": [
    "df_internet.head(10)"
   ]
  },
  {
   "cell_type": "markdown",
   "id": "0a628439",
   "metadata": {},
   "source": [
    "Выведем общую информацию о датафрейме «df_internet»"
   ]
  },
  {
   "cell_type": "code",
   "execution_count": 38,
   "id": "9d701700",
   "metadata": {
    "scrolled": false
   },
   "outputs": [
    {
     "name": "stdout",
     "output_type": "stream",
     "text": [
      "<class 'pandas.core.frame.DataFrame'>\n",
      "RangeIndex: 5517 entries, 0 to 5516\n",
      "Data columns (total 8 columns):\n",
      " #   Column            Non-Null Count  Dtype \n",
      "---  ------            --------------  ----- \n",
      " 0   customerID        5517 non-null   object\n",
      " 1   InternetService   5517 non-null   object\n",
      " 2   OnlineSecurity    5517 non-null   object\n",
      " 3   OnlineBackup      5517 non-null   object\n",
      " 4   DeviceProtection  5517 non-null   object\n",
      " 5   TechSupport       5517 non-null   object\n",
      " 6   StreamingTV       5517 non-null   object\n",
      " 7   StreamingMovies   5517 non-null   object\n",
      "dtypes: object(8)\n",
      "memory usage: 344.9+ KB\n"
     ]
    }
   ],
   "source": [
    "df_internet.info()"
   ]
  },
  {
   "cell_type": "markdown",
   "id": "0ee3fbea",
   "metadata": {},
   "source": [
    "После первичного осмотра данных выявлены следующие проблемы: \n",
    " - Названия колонок не соответствуют \"змеиному\" стилю"
   ]
  },
  {
   "cell_type": "markdown",
   "id": "bc79b2d7",
   "metadata": {},
   "source": [
    "Изменим названия колонок в соответствии со \"змеиным\" стилем"
   ]
  },
  {
   "cell_type": "code",
   "execution_count": 39,
   "id": "ffb96b53",
   "metadata": {},
   "outputs": [],
   "source": [
    "df_internet = df_internet.rename(columns={'customerID': 'customer_id',\n",
    "                                          'InternetService': 'internet_service',\n",
    "                                          'OnlineSecurity': 'online_security',\n",
    "                                          'OnlineBackup': 'online_backup',\n",
    "                                          'DeviceProtection': 'device_protection',\n",
    "                                          'TechSupport': 'tech_support',\n",
    "                                          'StreamingTV': 'streaming_tv',\n",
    "                                          'StreamingMovies': 'streaming_movies'})"
   ]
  },
  {
   "cell_type": "markdown",
   "id": "8f14b69c",
   "metadata": {},
   "source": [
    "Проверим датафрейм на явные дубликаты"
   ]
  },
  {
   "cell_type": "code",
   "execution_count": 40,
   "id": "fddaa830",
   "metadata": {},
   "outputs": [
    {
     "data": {
      "text/plain": [
       "0"
      ]
     },
     "execution_count": 40,
     "metadata": {},
     "output_type": "execute_result"
    }
   ],
   "source": [
    "df_internet.duplicated().sum()"
   ]
  },
  {
   "cell_type": "markdown",
   "id": "41028151",
   "metadata": {},
   "source": [
    "Проверим датафрейм на неявные дубликаты в колонках, где это необходимо "
   ]
  },
  {
   "cell_type": "code",
   "execution_count": 41,
   "id": "d50be3f9",
   "metadata": {},
   "outputs": [
    {
     "name": "stdout",
     "output_type": "stream",
     "text": [
      "internet_service: ['DSL', 'Fiber optic']\n",
      "online_security: ['No', 'Yes']\n",
      "online_backup: ['Yes', 'No']\n",
      "device_protection: ['No', 'Yes']\n",
      "tech_support: ['No', 'Yes']\n",
      "streaming_tv: ['No', 'Yes']\n",
      "streaming_movies: ['No', 'Yes']\n"
     ]
    }
   ],
   "source": [
    "print(f'internet_service: {list(df_internet[\"internet_service\"].unique())}\\n\\\n",
    "online_security: {list(df_internet[\"online_security\"].unique())}\\n\\\n",
    "online_backup: {list(df_internet[\"online_backup\"].unique())}\\n\\\n",
    "device_protection: {list(df_internet[\"device_protection\"].unique())}\\n\\\n",
    "tech_support: {list(df_internet[\"tech_support\"].unique())}\\n\\\n",
    "streaming_tv: {list(df_internet[\"streaming_tv\"].unique())}\\n\\\n",
    "streaming_movies: {list(df_internet[\"streaming_movies\"].unique())}')"
   ]
  },
  {
   "cell_type": "markdown",
   "id": "aac07e74",
   "metadata": {},
   "source": [
    "Проверим датафрейм на пропуски"
   ]
  },
  {
   "cell_type": "code",
   "execution_count": 42,
   "id": "15033b92",
   "metadata": {},
   "outputs": [
    {
     "data": {
      "text/plain": [
       "customer_id          0\n",
       "internet_service     0\n",
       "online_security      0\n",
       "online_backup        0\n",
       "device_protection    0\n",
       "tech_support         0\n",
       "streaming_tv         0\n",
       "streaming_movies     0\n",
       "dtype: int64"
      ]
     },
     "execution_count": 42,
     "metadata": {},
     "output_type": "execute_result"
    }
   ],
   "source": [
    "df_internet.isna().sum()"
   ]
  },
  {
   "cell_type": "markdown",
   "id": "992ce440",
   "metadata": {},
   "source": [
    "Выведем первые 5 строк датафрейма и его общую информацию после предобработки "
   ]
  },
  {
   "cell_type": "code",
   "execution_count": 43,
   "id": "eeb0fb54",
   "metadata": {},
   "outputs": [
    {
     "data": {
      "text/html": [
       "<div>\n",
       "<style scoped>\n",
       "    .dataframe tbody tr th:only-of-type {\n",
       "        vertical-align: middle;\n",
       "    }\n",
       "\n",
       "    .dataframe tbody tr th {\n",
       "        vertical-align: top;\n",
       "    }\n",
       "\n",
       "    .dataframe thead th {\n",
       "        text-align: right;\n",
       "    }\n",
       "</style>\n",
       "<table border=\"1\" class=\"dataframe\">\n",
       "  <thead>\n",
       "    <tr style=\"text-align: right;\">\n",
       "      <th></th>\n",
       "      <th>customer_id</th>\n",
       "      <th>internet_service</th>\n",
       "      <th>online_security</th>\n",
       "      <th>online_backup</th>\n",
       "      <th>device_protection</th>\n",
       "      <th>tech_support</th>\n",
       "      <th>streaming_tv</th>\n",
       "      <th>streaming_movies</th>\n",
       "    </tr>\n",
       "  </thead>\n",
       "  <tbody>\n",
       "    <tr>\n",
       "      <th>0</th>\n",
       "      <td>7590-VHVEG</td>\n",
       "      <td>DSL</td>\n",
       "      <td>No</td>\n",
       "      <td>Yes</td>\n",
       "      <td>No</td>\n",
       "      <td>No</td>\n",
       "      <td>No</td>\n",
       "      <td>No</td>\n",
       "    </tr>\n",
       "    <tr>\n",
       "      <th>1</th>\n",
       "      <td>5575-GNVDE</td>\n",
       "      <td>DSL</td>\n",
       "      <td>Yes</td>\n",
       "      <td>No</td>\n",
       "      <td>Yes</td>\n",
       "      <td>No</td>\n",
       "      <td>No</td>\n",
       "      <td>No</td>\n",
       "    </tr>\n",
       "    <tr>\n",
       "      <th>2</th>\n",
       "      <td>3668-QPYBK</td>\n",
       "      <td>DSL</td>\n",
       "      <td>Yes</td>\n",
       "      <td>Yes</td>\n",
       "      <td>No</td>\n",
       "      <td>No</td>\n",
       "      <td>No</td>\n",
       "      <td>No</td>\n",
       "    </tr>\n",
       "    <tr>\n",
       "      <th>3</th>\n",
       "      <td>7795-CFOCW</td>\n",
       "      <td>DSL</td>\n",
       "      <td>Yes</td>\n",
       "      <td>No</td>\n",
       "      <td>Yes</td>\n",
       "      <td>Yes</td>\n",
       "      <td>No</td>\n",
       "      <td>No</td>\n",
       "    </tr>\n",
       "    <tr>\n",
       "      <th>4</th>\n",
       "      <td>9237-HQITU</td>\n",
       "      <td>Fiber optic</td>\n",
       "      <td>No</td>\n",
       "      <td>No</td>\n",
       "      <td>No</td>\n",
       "      <td>No</td>\n",
       "      <td>No</td>\n",
       "      <td>No</td>\n",
       "    </tr>\n",
       "  </tbody>\n",
       "</table>\n",
       "</div>"
      ],
      "text/plain": [
       "  customer_id internet_service online_security online_backup  \\\n",
       "0  7590-VHVEG              DSL              No           Yes   \n",
       "1  5575-GNVDE              DSL             Yes            No   \n",
       "2  3668-QPYBK              DSL             Yes           Yes   \n",
       "3  7795-CFOCW              DSL             Yes            No   \n",
       "4  9237-HQITU      Fiber optic              No            No   \n",
       "\n",
       "  device_protection tech_support streaming_tv streaming_movies  \n",
       "0                No           No           No               No  \n",
       "1               Yes           No           No               No  \n",
       "2                No           No           No               No  \n",
       "3               Yes          Yes           No               No  \n",
       "4                No           No           No               No  "
      ]
     },
     "execution_count": 43,
     "metadata": {},
     "output_type": "execute_result"
    }
   ],
   "source": [
    "df_internet.head()"
   ]
  },
  {
   "cell_type": "code",
   "execution_count": 44,
   "id": "e0f6d17d",
   "metadata": {},
   "outputs": [
    {
     "name": "stdout",
     "output_type": "stream",
     "text": [
      "<class 'pandas.core.frame.DataFrame'>\n",
      "RangeIndex: 5517 entries, 0 to 5516\n",
      "Data columns (total 8 columns):\n",
      " #   Column             Non-Null Count  Dtype \n",
      "---  ------             --------------  ----- \n",
      " 0   customer_id        5517 non-null   object\n",
      " 1   internet_service   5517 non-null   object\n",
      " 2   online_security    5517 non-null   object\n",
      " 3   online_backup      5517 non-null   object\n",
      " 4   device_protection  5517 non-null   object\n",
      " 5   tech_support       5517 non-null   object\n",
      " 6   streaming_tv       5517 non-null   object\n",
      " 7   streaming_movies   5517 non-null   object\n",
      "dtypes: object(8)\n",
      "memory usage: 344.9+ KB\n"
     ]
    }
   ],
   "source": [
    "df_internet.info()"
   ]
  },
  {
   "cell_type": "markdown",
   "id": "a0373a3a",
   "metadata": {},
   "source": [
    "Все выявленные проблемы устранены"
   ]
  },
  {
   "cell_type": "markdown",
   "id": "b0686a06",
   "metadata": {},
   "source": [
    "Построим гистограммы для колонок, кроме колонок содержащие id клиента и дату, для оценки распределения признаков"
   ]
  },
  {
   "cell_type": "markdown",
   "id": "a5f67d27",
   "metadata": {},
   "source": [
    "Гистограмма для колонки \"internet_service\""
   ]
  },
  {
   "cell_type": "code",
   "execution_count": 45,
   "id": "966421f2",
   "metadata": {
    "scrolled": false
   },
   "outputs": [
    {
     "data": {
      "image/png": "[encoded data removed]",
      "text/plain": [
       "<Figure size 640x480 with 1 Axes>"
      ]
     },
     "metadata": {},
     "output_type": "display_data"
    }
   ],
   "source": [
    "sns.histplot(data=df_internet['internet_service'])\n",
    "plt.title('Гистограмма для колонки \"internet_service\"')\n",
    "plt.xlabel('Internet service');"
   ]
  },
  {
   "cell_type": "markdown",
   "id": "2a466bbf",
   "metadata": {},
   "source": [
    "Из гистограммы видно, что сильного перевеса в классах нет"
   ]
  },
  {
   "cell_type": "markdown",
   "id": "eaad6ec9",
   "metadata": {},
   "source": [
    "Гистограмма для колонки \"online_security\""
   ]
  },
  {
   "cell_type": "code",
   "execution_count": 46,
   "id": "775a35d1",
   "metadata": {
    "scrolled": false
   },
   "outputs": [
    {
     "data": {
      "image/png": "[encoded data removed]",
      "text/plain": [
       "<Figure size 640x480 with 1 Axes>"
      ]
     },
     "metadata": {},
     "output_type": "display_data"
    }
   ],
   "source": [
    "sns.histplot(data=df_internet['online_security'])\n",
    "plt.title('Гистограмма для колонки \"online_security\"')\n",
    "plt.xlabel('Online security');"
   ]
  },
  {
   "cell_type": "markdown",
   "id": "c1c9b0aa",
   "metadata": {},
   "source": [
    "Из гистограммы видно, что класс \"No\" имеет перевес почти в 2 раза перед классом \"Yes\""
   ]
  },
  {
   "cell_type": "markdown",
   "id": "0937ab76",
   "metadata": {},
   "source": [
    "Гистограмма для колонки \"online_backup\""
   ]
  },
  {
   "cell_type": "code",
   "execution_count": 47,
   "id": "6edb96cc",
   "metadata": {
    "scrolled": false
   },
   "outputs": [
    {
     "data": {
      "image/png": "[encoded data removed]",
      "text/plain": [
       "<Figure size 640x480 with 1 Axes>"
      ]
     },
     "metadata": {},
     "output_type": "display_data"
    }
   ],
   "source": [
    "sns.histplot(data=df_internet['online_backup'])\n",
    "plt.title('Гистограмма для колонки \"online_backup\"')\n",
    "plt.xlabel('Online backup');"
   ]
  },
  {
   "cell_type": "markdown",
   "id": "02781e2b",
   "metadata": {},
   "source": [
    "Из гистограммы видно, что сильного перевеса в классах нет"
   ]
  },
  {
   "cell_type": "markdown",
   "id": "34dac323",
   "metadata": {},
   "source": [
    "Гистограмма для колонки \"device_protection\""
   ]
  },
  {
   "cell_type": "code",
   "execution_count": 48,
   "id": "4369353b",
   "metadata": {
    "scrolled": false
   },
   "outputs": [
    {
     "data": {
      "image/png": "[encoded data removed]",
      "text/plain": [
       "<Figure size 640x480 with 1 Axes>"
      ]
     },
     "metadata": {},
     "output_type": "display_data"
    }
   ],
   "source": [
    "sns.histplot(data=df_internet['device_protection'])\n",
    "plt.title('Гистограмма для колонки \"device_protection\"')\n",
    "plt.xlabel('Device protection');"
   ]
  },
  {
   "cell_type": "markdown",
   "id": "6f491e00",
   "metadata": {},
   "source": [
    "Из гистограммы видно, что сильного перевеса в классах нет"
   ]
  },
  {
   "cell_type": "markdown",
   "id": "66837017",
   "metadata": {},
   "source": [
    "Гистограмма для колонки \"tech_support\""
   ]
  },
  {
   "cell_type": "code",
   "execution_count": 49,
   "id": "b3e10345",
   "metadata": {
    "scrolled": false
   },
   "outputs": [
    {
     "data": {
      "image/png": "[encoded data removed]",
      "text/plain": [
       "<Figure size 640x480 with 1 Axes>"
      ]
     },
     "metadata": {},
     "output_type": "display_data"
    }
   ],
   "source": [
    "sns.histplot(data=df_internet['tech_support'])\n",
    "plt.title('Гистограмма для колонки \"tech_support\"')\n",
    "plt.xlabel('Tech support');"
   ]
  },
  {
   "cell_type": "markdown",
   "id": "7bf6834e",
   "metadata": {},
   "source": [
    "Из гистограммы видно, что класс \"No\" имеет перевес почти в 2 раза перед классом \"Yes\""
   ]
  },
  {
   "cell_type": "markdown",
   "id": "8e7be277",
   "metadata": {},
   "source": [
    "Гистограмма для колонки \"streaming_tv\""
   ]
  },
  {
   "cell_type": "code",
   "execution_count": 50,
   "id": "4774ff5f",
   "metadata": {
    "scrolled": false
   },
   "outputs": [
    {
     "data": {
      "image/png": "[encoded data removed]",
      "text/plain": [
       "<Figure size 640x480 with 1 Axes>"
      ]
     },
     "metadata": {},
     "output_type": "display_data"
    }
   ],
   "source": [
    "sns.histplot(data=df_internet['streaming_tv'])\n",
    "plt.title('Гистограмма для колонки \"streaming_tv\"')\n",
    "plt.xlabel('Streaming TV');"
   ]
  },
  {
   "cell_type": "markdown",
   "id": "d58889eb",
   "metadata": {},
   "source": [
    "Из гистограммы видно, что сильного перевеса в классах нет"
   ]
  },
  {
   "cell_type": "markdown",
   "id": "821fde92",
   "metadata": {},
   "source": [
    "Гистограмма для колонки \"streaming_movies\""
   ]
  },
  {
   "cell_type": "code",
   "execution_count": 51,
   "id": "6b44bd8b",
   "metadata": {
    "scrolled": false
   },
   "outputs": [
    {
     "data": {
      "image/png": "[encoded data removed]",
      "text/plain": [
       "<Figure size 640x480 with 1 Axes>"
      ]
     },
     "metadata": {},
     "output_type": "display_data"
    }
   ],
   "source": [
    "sns.histplot(data=df_internet['streaming_movies'])\n",
    "plt.title('Гистограмма для колонки \"streaming_movies\"')\n",
    "plt.xlabel('Streaming movies');"
   ]
  },
  {
   "cell_type": "markdown",
   "id": "7aaa0178",
   "metadata": {},
   "source": [
    "Из гистограммы видно, что сильного перевеса в классах нет"
   ]
  },
  {
   "cell_type": "markdown",
   "id": "f70394e5",
   "metadata": {},
   "source": [
    "Исследуем корреляцию признаков"
   ]
  },
  {
   "cell_type": "code",
   "execution_count": 52,
   "id": "3ae5f38b",
   "metadata": {},
   "outputs": [
    {
     "data": {
      "text/html": [
       "<div>\n",
       "<style scoped>\n",
       "    .dataframe tbody tr th:only-of-type {\n",
       "        vertical-align: middle;\n",
       "    }\n",
       "\n",
       "    .dataframe tbody tr th {\n",
       "        vertical-align: top;\n",
       "    }\n",
       "\n",
       "    .dataframe thead th {\n",
       "        text-align: right;\n",
       "    }\n",
       "</style>\n",
       "<table border=\"1\" class=\"dataframe\">\n",
       "  <thead>\n",
       "    <tr style=\"text-align: right;\">\n",
       "      <th></th>\n",
       "      <th>internet_service</th>\n",
       "      <th>online_security</th>\n",
       "      <th>online_backup</th>\n",
       "      <th>device_protection</th>\n",
       "      <th>tech_support</th>\n",
       "      <th>streaming_tv</th>\n",
       "      <th>streaming_movies</th>\n",
       "    </tr>\n",
       "  </thead>\n",
       "  <tbody>\n",
       "    <tr>\n",
       "      <th>internet_service</th>\n",
       "      <td>1.000000</td>\n",
       "      <td>0.341950</td>\n",
       "      <td>0.008098</td>\n",
       "      <td>0.000000</td>\n",
       "      <td>0.326553</td>\n",
       "      <td>0.260564</td>\n",
       "      <td>0.246018</td>\n",
       "    </tr>\n",
       "    <tr>\n",
       "      <th>online_security</th>\n",
       "      <td>0.341950</td>\n",
       "      <td>1.000000</td>\n",
       "      <td>0.277245</td>\n",
       "      <td>0.263021</td>\n",
       "      <td>0.415484</td>\n",
       "      <td>0.065004</td>\n",
       "      <td>0.084426</td>\n",
       "    </tr>\n",
       "    <tr>\n",
       "      <th>online_backup</th>\n",
       "      <td>0.008098</td>\n",
       "      <td>0.277245</td>\n",
       "      <td>1.000000</td>\n",
       "      <td>0.285491</td>\n",
       "      <td>0.293663</td>\n",
       "      <td>0.227275</td>\n",
       "      <td>0.211500</td>\n",
       "    </tr>\n",
       "    <tr>\n",
       "      <th>device_protection</th>\n",
       "      <td>0.000000</td>\n",
       "      <td>0.263021</td>\n",
       "      <td>0.285491</td>\n",
       "      <td>1.000000</td>\n",
       "      <td>0.360774</td>\n",
       "      <td>0.420014</td>\n",
       "      <td>0.437634</td>\n",
       "    </tr>\n",
       "    <tr>\n",
       "      <th>tech_support</th>\n",
       "      <td>0.326553</td>\n",
       "      <td>0.415484</td>\n",
       "      <td>0.293663</td>\n",
       "      <td>0.360774</td>\n",
       "      <td>1.000000</td>\n",
       "      <td>0.249535</td>\n",
       "      <td>0.250349</td>\n",
       "    </tr>\n",
       "    <tr>\n",
       "      <th>streaming_tv</th>\n",
       "      <td>0.260564</td>\n",
       "      <td>0.065004</td>\n",
       "      <td>0.227275</td>\n",
       "      <td>0.420014</td>\n",
       "      <td>0.249535</td>\n",
       "      <td>1.000000</td>\n",
       "      <td>0.630406</td>\n",
       "    </tr>\n",
       "    <tr>\n",
       "      <th>streaming_movies</th>\n",
       "      <td>0.246018</td>\n",
       "      <td>0.084426</td>\n",
       "      <td>0.211500</td>\n",
       "      <td>0.437634</td>\n",
       "      <td>0.250349</td>\n",
       "      <td>0.630406</td>\n",
       "      <td>1.000000</td>\n",
       "    </tr>\n",
       "  </tbody>\n",
       "</table>\n",
       "</div>"
      ],
      "text/plain": [
       "                   internet_service  online_security  online_backup  \\\n",
       "internet_service           1.000000         0.341950       0.008098   \n",
       "online_security            0.341950         1.000000       0.277245   \n",
       "online_backup              0.008098         0.277245       1.000000   \n",
       "device_protection          0.000000         0.263021       0.285491   \n",
       "tech_support               0.326553         0.415484       0.293663   \n",
       "streaming_tv               0.260564         0.065004       0.227275   \n",
       "streaming_movies           0.246018         0.084426       0.211500   \n",
       "\n",
       "                   device_protection  tech_support  streaming_tv  \\\n",
       "internet_service            0.000000      0.326553      0.260564   \n",
       "online_security             0.263021      0.415484      0.065004   \n",
       "online_backup               0.285491      0.293663      0.227275   \n",
       "device_protection           1.000000      0.360774      0.420014   \n",
       "tech_support                0.360774      1.000000      0.249535   \n",
       "streaming_tv                0.420014      0.249535      1.000000   \n",
       "streaming_movies            0.437634      0.250349      0.630406   \n",
       "\n",
       "                   streaming_movies  \n",
       "internet_service           0.246018  \n",
       "online_security            0.084426  \n",
       "online_backup              0.211500  \n",
       "device_protection          0.437634  \n",
       "tech_support               0.250349  \n",
       "streaming_tv               0.630406  \n",
       "streaming_movies           1.000000  "
      ]
     },
     "execution_count": 52,
     "metadata": {},
     "output_type": "execute_result"
    }
   ],
   "source": [
    "df_internet.drop(['customer_id'], axis=1).phik_matrix()"
   ]
  },
  {
   "cell_type": "markdown",
   "id": "6ae58738",
   "metadata": {},
   "source": [
    "После исследования обнаружена корреляция между: \n",
    " - streaming_tv\t и streaming_movies - 0.630406\n"
   ]
  },
  {
   "cell_type": "markdown",
   "id": "a60561d3",
   "metadata": {},
   "source": [
    "**Вывод:**\n",
    "\n",
    " В процессе работы с датафреймом «internet_new.csv» произведены следующие изменения:\n",
    "\n",
    "- заголовки переименованы в соответствии со \"змеином\" стилем\n",
    "\n",
    "Дубликаты и пропуски не обнаружены. Присутствует перевес в некоторых колонках, которые содержат категориальные признаки.\n",
    " \n",
    "Обнаружена корреляция между признаками: \n",
    "\n",
    "- streaming_tv и streaming_movies - 0.630406"
   ]
  },
  {
   "cell_type": "markdown",
   "id": "9544ab06",
   "metadata": {},
   "source": [
    "### 3.5 Изучение и предобработка датафрейма «phone_new.csv»"
   ]
  },
  {
   "cell_type": "markdown",
   "id": "f6ce96f3",
   "metadata": {},
   "source": [
    "Выведем первые 10 строк датафрейма «df_phone»"
   ]
  },
  {
   "cell_type": "code",
   "execution_count": 53,
   "id": "e0e0e3ca",
   "metadata": {},
   "outputs": [
    {
     "data": {
      "text/html": [
       "<div>\n",
       "<style scoped>\n",
       "    .dataframe tbody tr th:only-of-type {\n",
       "        vertical-align: middle;\n",
       "    }\n",
       "\n",
       "    .dataframe tbody tr th {\n",
       "        vertical-align: top;\n",
       "    }\n",
       "\n",
       "    .dataframe thead th {\n",
       "        text-align: right;\n",
       "    }\n",
       "</style>\n",
       "<table border=\"1\" class=\"dataframe\">\n",
       "  <thead>\n",
       "    <tr style=\"text-align: right;\">\n",
       "      <th></th>\n",
       "      <th>customerID</th>\n",
       "      <th>MultipleLines</th>\n",
       "    </tr>\n",
       "  </thead>\n",
       "  <tbody>\n",
       "    <tr>\n",
       "      <th>0</th>\n",
       "      <td>5575-GNVDE</td>\n",
       "      <td>No</td>\n",
       "    </tr>\n",
       "    <tr>\n",
       "      <th>1</th>\n",
       "      <td>3668-QPYBK</td>\n",
       "      <td>No</td>\n",
       "    </tr>\n",
       "    <tr>\n",
       "      <th>2</th>\n",
       "      <td>9237-HQITU</td>\n",
       "      <td>No</td>\n",
       "    </tr>\n",
       "    <tr>\n",
       "      <th>3</th>\n",
       "      <td>9305-CDSKC</td>\n",
       "      <td>Yes</td>\n",
       "    </tr>\n",
       "    <tr>\n",
       "      <th>4</th>\n",
       "      <td>1452-KIOVK</td>\n",
       "      <td>Yes</td>\n",
       "    </tr>\n",
       "    <tr>\n",
       "      <th>5</th>\n",
       "      <td>7892-POOKP</td>\n",
       "      <td>Yes</td>\n",
       "    </tr>\n",
       "    <tr>\n",
       "      <th>6</th>\n",
       "      <td>6388-TABGU</td>\n",
       "      <td>No</td>\n",
       "    </tr>\n",
       "    <tr>\n",
       "      <th>7</th>\n",
       "      <td>9763-GRSKD</td>\n",
       "      <td>No</td>\n",
       "    </tr>\n",
       "    <tr>\n",
       "      <th>8</th>\n",
       "      <td>7469-LKBCI</td>\n",
       "      <td>No</td>\n",
       "    </tr>\n",
       "    <tr>\n",
       "      <th>9</th>\n",
       "      <td>8091-TTVAX</td>\n",
       "      <td>Yes</td>\n",
       "    </tr>\n",
       "  </tbody>\n",
       "</table>\n",
       "</div>"
      ],
      "text/plain": [
       "   customerID MultipleLines\n",
       "0  5575-GNVDE            No\n",
       "1  3668-QPYBK            No\n",
       "2  9237-HQITU            No\n",
       "3  9305-CDSKC           Yes\n",
       "4  1452-KIOVK           Yes\n",
       "5  7892-POOKP           Yes\n",
       "6  6388-TABGU            No\n",
       "7  9763-GRSKD            No\n",
       "8  7469-LKBCI            No\n",
       "9  8091-TTVAX           Yes"
      ]
     },
     "execution_count": 53,
     "metadata": {},
     "output_type": "execute_result"
    }
   ],
   "source": [
    "df_phone.head(10)"
   ]
  },
  {
   "cell_type": "markdown",
   "id": "4239a63d",
   "metadata": {},
   "source": [
    "Выведем общую информацию о датафрейме «df_phone»"
   ]
  },
  {
   "cell_type": "code",
   "execution_count": 54,
   "id": "246891f0",
   "metadata": {
    "scrolled": false
   },
   "outputs": [
    {
     "name": "stdout",
     "output_type": "stream",
     "text": [
      "<class 'pandas.core.frame.DataFrame'>\n",
      "RangeIndex: 6361 entries, 0 to 6360\n",
      "Data columns (total 2 columns):\n",
      " #   Column         Non-Null Count  Dtype \n",
      "---  ------         --------------  ----- \n",
      " 0   customerID     6361 non-null   object\n",
      " 1   MultipleLines  6361 non-null   object\n",
      "dtypes: object(2)\n",
      "memory usage: 99.5+ KB\n"
     ]
    }
   ],
   "source": [
    "df_phone.info()"
   ]
  },
  {
   "cell_type": "markdown",
   "id": "926a849d",
   "metadata": {},
   "source": [
    "После первичного осмотра данных выявлены следующие проблемы: \n",
    " - Названия колонок не соответствуют \"змеиному\" стилю"
   ]
  },
  {
   "cell_type": "markdown",
   "id": "5a8e85ab",
   "metadata": {},
   "source": [
    "Изменим названия колонок в соответствии со \"змеиным\" стилем"
   ]
  },
  {
   "cell_type": "code",
   "execution_count": 55,
   "id": "6d8011c9",
   "metadata": {},
   "outputs": [],
   "source": [
    "df_phone = df_phone.rename(columns={'customerID': 'customer_id',\n",
    "                                    'MultipleLines': 'multiple_lines'})"
   ]
  },
  {
   "cell_type": "markdown",
   "id": "a99a8ee2",
   "metadata": {},
   "source": [
    "Проверим датафрейм на явные дубликаты"
   ]
  },
  {
   "cell_type": "code",
   "execution_count": 56,
   "id": "33104d47",
   "metadata": {},
   "outputs": [
    {
     "data": {
      "text/plain": [
       "0"
      ]
     },
     "execution_count": 56,
     "metadata": {},
     "output_type": "execute_result"
    }
   ],
   "source": [
    "df_phone.duplicated().sum()"
   ]
  },
  {
   "cell_type": "markdown",
   "id": "466cd7e7",
   "metadata": {},
   "source": [
    "Проверим датафрейм на неявные дубликаты в колонках, где это необходимо "
   ]
  },
  {
   "cell_type": "code",
   "execution_count": 57,
   "id": "356fe078",
   "metadata": {},
   "outputs": [
    {
     "name": "stdout",
     "output_type": "stream",
     "text": [
      "multiple_lines: ['No', 'Yes']\n"
     ]
    }
   ],
   "source": [
    "print(f'multiple_lines: {list(df_phone[\"multiple_lines\"].unique())}')"
   ]
  },
  {
   "cell_type": "markdown",
   "id": "e1582ad4",
   "metadata": {},
   "source": [
    "Проверим датафрейм на пропуски"
   ]
  },
  {
   "cell_type": "code",
   "execution_count": 58,
   "id": "166dfdf3",
   "metadata": {},
   "outputs": [
    {
     "data": {
      "text/plain": [
       "customer_id       0\n",
       "multiple_lines    0\n",
       "dtype: int64"
      ]
     },
     "execution_count": 58,
     "metadata": {},
     "output_type": "execute_result"
    }
   ],
   "source": [
    "df_phone.isna().sum()"
   ]
  },
  {
   "cell_type": "markdown",
   "id": "30932f58",
   "metadata": {},
   "source": [
    "Выведем первые 5 строк датафрейма и его общую информацию после предобработки "
   ]
  },
  {
   "cell_type": "code",
   "execution_count": 59,
   "id": "7192834d",
   "metadata": {},
   "outputs": [
    {
     "data": {
      "text/html": [
       "<div>\n",
       "<style scoped>\n",
       "    .dataframe tbody tr th:only-of-type {\n",
       "        vertical-align: middle;\n",
       "    }\n",
       "\n",
       "    .dataframe tbody tr th {\n",
       "        vertical-align: top;\n",
       "    }\n",
       "\n",
       "    .dataframe thead th {\n",
       "        text-align: right;\n",
       "    }\n",
       "</style>\n",
       "<table border=\"1\" class=\"dataframe\">\n",
       "  <thead>\n",
       "    <tr style=\"text-align: right;\">\n",
       "      <th></th>\n",
       "      <th>customer_id</th>\n",
       "      <th>multiple_lines</th>\n",
       "    </tr>\n",
       "  </thead>\n",
       "  <tbody>\n",
       "    <tr>\n",
       "      <th>0</th>\n",
       "      <td>5575-GNVDE</td>\n",
       "      <td>No</td>\n",
       "    </tr>\n",
       "    <tr>\n",
       "      <th>1</th>\n",
       "      <td>3668-QPYBK</td>\n",
       "      <td>No</td>\n",
       "    </tr>\n",
       "    <tr>\n",
       "      <th>2</th>\n",
       "      <td>9237-HQITU</td>\n",
       "      <td>No</td>\n",
       "    </tr>\n",
       "    <tr>\n",
       "      <th>3</th>\n",
       "      <td>9305-CDSKC</td>\n",
       "      <td>Yes</td>\n",
       "    </tr>\n",
       "    <tr>\n",
       "      <th>4</th>\n",
       "      <td>1452-KIOVK</td>\n",
       "      <td>Yes</td>\n",
       "    </tr>\n",
       "  </tbody>\n",
       "</table>\n",
       "</div>"
      ],
      "text/plain": [
       "  customer_id multiple_lines\n",
       "0  5575-GNVDE             No\n",
       "1  3668-QPYBK             No\n",
       "2  9237-HQITU             No\n",
       "3  9305-CDSKC            Yes\n",
       "4  1452-KIOVK            Yes"
      ]
     },
     "execution_count": 59,
     "metadata": {},
     "output_type": "execute_result"
    }
   ],
   "source": [
    "df_phone.head()"
   ]
  },
  {
   "cell_type": "code",
   "execution_count": 60,
   "id": "692007ab",
   "metadata": {},
   "outputs": [
    {
     "name": "stdout",
     "output_type": "stream",
     "text": [
      "<class 'pandas.core.frame.DataFrame'>\n",
      "RangeIndex: 6361 entries, 0 to 6360\n",
      "Data columns (total 2 columns):\n",
      " #   Column          Non-Null Count  Dtype \n",
      "---  ------          --------------  ----- \n",
      " 0   customer_id     6361 non-null   object\n",
      " 1   multiple_lines  6361 non-null   object\n",
      "dtypes: object(2)\n",
      "memory usage: 99.5+ KB\n"
     ]
    }
   ],
   "source": [
    "df_phone.info()"
   ]
  },
  {
   "cell_type": "markdown",
   "id": "46af1941",
   "metadata": {},
   "source": [
    "Все выявленные проблемы устранены"
   ]
  },
  {
   "cell_type": "markdown",
   "id": "b57c8e2c",
   "metadata": {},
   "source": [
    "Построим гистограммы для колонок, кроме колонок содержащие id клиента и дату, для оценки распределения признаков"
   ]
  },
  {
   "cell_type": "markdown",
   "id": "4a25761e",
   "metadata": {},
   "source": [
    "Гистограмма для колонки \"multiple_lines\""
   ]
  },
  {
   "cell_type": "code",
   "execution_count": 61,
   "id": "9b12d2b6",
   "metadata": {
    "scrolled": false
   },
   "outputs": [
    {
     "data": {
      "image/png": "[encoded data removed]",
      "text/plain": [
       "<Figure size 640x480 with 1 Axes>"
      ]
     },
     "metadata": {},
     "output_type": "display_data"
    }
   ],
   "source": [
    "sns.histplot(data=df_phone['multiple_lines'])\n",
    "plt.title('Гистограмма для колонки \"multiple_lines\"')\n",
    "plt.xlabel('Multiple lines');"
   ]
  },
  {
   "cell_type": "markdown",
   "id": "fe16a06f",
   "metadata": {},
   "source": [
    "Из гистограммы видно, что сильного перевеса в классах нет"
   ]
  },
  {
   "cell_type": "markdown",
   "id": "604b8bb0",
   "metadata": {},
   "source": [
    "**Вывод:**\n",
    "\n",
    " В процессе работы с датафреймом «phone_new.csv» произведены следующие изменения:\n",
    "\n",
    "- заголовки переименованы в соответствии со \"змеином\" стилем\n",
    "\n",
    "Дубликаты и пропуски не обнаружены. Сильного перевеса в классах нет."
   ]
  },
  {
   "cell_type": "markdown",
   "id": "834c8931",
   "metadata": {},
   "source": [
    "### 3.6 Объединение датафреймов и предобработка единого датафрейма"
   ]
  },
  {
   "cell_type": "markdown",
   "id": "c907b063",
   "metadata": {},
   "source": [
    "Объединим датафреймы в один по id клиентов"
   ]
  },
  {
   "cell_type": "code",
   "execution_count": 62,
   "id": "072519c0",
   "metadata": {},
   "outputs": [],
   "source": [
    "data = df_contract.merge(df_personal, how='outer', on='customer_id')\\\n",
    ".merge(df_internet, how='outer', on='customer_id')\\\n",
    ".merge(df_phone, how='outer', on='customer_id')"
   ]
  },
  {
   "cell_type": "markdown",
   "id": "89253af3",
   "metadata": {},
   "source": [
    "Выведем первые 10 строк и общую информацию получившегося датафрейма   "
   ]
  },
  {
   "cell_type": "code",
   "execution_count": 63,
   "id": "4d6983d8",
   "metadata": {},
   "outputs": [
    {
     "data": {
      "text/html": [
       "<div>\n",
       "<style scoped>\n",
       "    .dataframe tbody tr th:only-of-type {\n",
       "        vertical-align: middle;\n",
       "    }\n",
       "\n",
       "    .dataframe tbody tr th {\n",
       "        vertical-align: top;\n",
       "    }\n",
       "\n",
       "    .dataframe thead th {\n",
       "        text-align: right;\n",
       "    }\n",
       "</style>\n",
       "<table border=\"1\" class=\"dataframe\">\n",
       "  <thead>\n",
       "    <tr style=\"text-align: right;\">\n",
       "      <th></th>\n",
       "      <th>customer_id</th>\n",
       "      <th>begin_date</th>\n",
       "      <th>end_date</th>\n",
       "      <th>type</th>\n",
       "      <th>paperless_billing</th>\n",
       "      <th>payment_method</th>\n",
       "      <th>monthly_charges</th>\n",
       "      <th>total_charges</th>\n",
       "      <th>gender</th>\n",
       "      <th>senior_citizen</th>\n",
       "      <th>partner</th>\n",
       "      <th>dependents</th>\n",
       "      <th>internet_service</th>\n",
       "      <th>online_security</th>\n",
       "      <th>online_backup</th>\n",
       "      <th>device_protection</th>\n",
       "      <th>tech_support</th>\n",
       "      <th>streaming_tv</th>\n",
       "      <th>streaming_movies</th>\n",
       "      <th>multiple_lines</th>\n",
       "    </tr>\n",
       "  </thead>\n",
       "  <tbody>\n",
       "    <tr>\n",
       "      <th>0</th>\n",
       "      <td>7590-VHVEG</td>\n",
       "      <td>2020-01-01</td>\n",
       "      <td>2020-02-01</td>\n",
       "      <td>Month-to-month</td>\n",
       "      <td>Yes</td>\n",
       "      <td>Electronic check</td>\n",
       "      <td>29.85</td>\n",
       "      <td>31.04</td>\n",
       "      <td>Female</td>\n",
       "      <td>No</td>\n",
       "      <td>Yes</td>\n",
       "      <td>No</td>\n",
       "      <td>DSL</td>\n",
       "      <td>No</td>\n",
       "      <td>Yes</td>\n",
       "      <td>No</td>\n",
       "      <td>No</td>\n",
       "      <td>No</td>\n",
       "      <td>No</td>\n",
       "      <td>NaN</td>\n",
       "    </tr>\n",
       "    <tr>\n",
       "      <th>1</th>\n",
       "      <td>5575-GNVDE</td>\n",
       "      <td>2017-04-01</td>\n",
       "      <td>2020-02-01</td>\n",
       "      <td>One year</td>\n",
       "      <td>No</td>\n",
       "      <td>Mailed check</td>\n",
       "      <td>56.95</td>\n",
       "      <td>2071.84</td>\n",
       "      <td>Male</td>\n",
       "      <td>No</td>\n",
       "      <td>No</td>\n",
       "      <td>No</td>\n",
       "      <td>DSL</td>\n",
       "      <td>Yes</td>\n",
       "      <td>No</td>\n",
       "      <td>Yes</td>\n",
       "      <td>No</td>\n",
       "      <td>No</td>\n",
       "      <td>No</td>\n",
       "      <td>No</td>\n",
       "    </tr>\n",
       "    <tr>\n",
       "      <th>2</th>\n",
       "      <td>3668-QPYBK</td>\n",
       "      <td>2019-10-01</td>\n",
       "      <td>2020-02-01</td>\n",
       "      <td>Month-to-month</td>\n",
       "      <td>Yes</td>\n",
       "      <td>Mailed check</td>\n",
       "      <td>53.85</td>\n",
       "      <td>226.17</td>\n",
       "      <td>Male</td>\n",
       "      <td>No</td>\n",
       "      <td>No</td>\n",
       "      <td>No</td>\n",
       "      <td>DSL</td>\n",
       "      <td>Yes</td>\n",
       "      <td>Yes</td>\n",
       "      <td>No</td>\n",
       "      <td>No</td>\n",
       "      <td>No</td>\n",
       "      <td>No</td>\n",
       "      <td>No</td>\n",
       "    </tr>\n",
       "    <tr>\n",
       "      <th>3</th>\n",
       "      <td>7795-CFOCW</td>\n",
       "      <td>2016-05-01</td>\n",
       "      <td>2020-02-01</td>\n",
       "      <td>One year</td>\n",
       "      <td>No</td>\n",
       "      <td>Bank transfer (automatic)</td>\n",
       "      <td>42.30</td>\n",
       "      <td>1960.60</td>\n",
       "      <td>Male</td>\n",
       "      <td>No</td>\n",
       "      <td>No</td>\n",
       "      <td>No</td>\n",
       "      <td>DSL</td>\n",
       "      <td>Yes</td>\n",
       "      <td>No</td>\n",
       "      <td>Yes</td>\n",
       "      <td>Yes</td>\n",
       "      <td>No</td>\n",
       "      <td>No</td>\n",
       "      <td>NaN</td>\n",
       "    </tr>\n",
       "    <tr>\n",
       "      <th>4</th>\n",
       "      <td>9237-HQITU</td>\n",
       "      <td>2019-09-01</td>\n",
       "      <td>2020-02-01</td>\n",
       "      <td>Month-to-month</td>\n",
       "      <td>Yes</td>\n",
       "      <td>Electronic check</td>\n",
       "      <td>70.70</td>\n",
       "      <td>353.50</td>\n",
       "      <td>Female</td>\n",
       "      <td>No</td>\n",
       "      <td>No</td>\n",
       "      <td>No</td>\n",
       "      <td>Fiber optic</td>\n",
       "      <td>No</td>\n",
       "      <td>No</td>\n",
       "      <td>No</td>\n",
       "      <td>No</td>\n",
       "      <td>No</td>\n",
       "      <td>No</td>\n",
       "      <td>No</td>\n",
       "    </tr>\n",
       "    <tr>\n",
       "      <th>5</th>\n",
       "      <td>9305-CDSKC</td>\n",
       "      <td>2019-03-01</td>\n",
       "      <td>2020-02-01</td>\n",
       "      <td>Month-to-month</td>\n",
       "      <td>Yes</td>\n",
       "      <td>Electronic check</td>\n",
       "      <td>99.65</td>\n",
       "      <td>1150.96</td>\n",
       "      <td>Female</td>\n",
       "      <td>No</td>\n",
       "      <td>No</td>\n",
       "      <td>No</td>\n",
       "      <td>Fiber optic</td>\n",
       "      <td>No</td>\n",
       "      <td>No</td>\n",
       "      <td>Yes</td>\n",
       "      <td>No</td>\n",
       "      <td>Yes</td>\n",
       "      <td>Yes</td>\n",
       "      <td>Yes</td>\n",
       "    </tr>\n",
       "    <tr>\n",
       "      <th>6</th>\n",
       "      <td>1452-KIOVK</td>\n",
       "      <td>2018-04-01</td>\n",
       "      <td>2020-02-01</td>\n",
       "      <td>Month-to-month</td>\n",
       "      <td>Yes</td>\n",
       "      <td>Credit card (automatic)</td>\n",
       "      <td>89.10</td>\n",
       "      <td>2058.21</td>\n",
       "      <td>Male</td>\n",
       "      <td>No</td>\n",
       "      <td>No</td>\n",
       "      <td>Yes</td>\n",
       "      <td>Fiber optic</td>\n",
       "      <td>No</td>\n",
       "      <td>Yes</td>\n",
       "      <td>No</td>\n",
       "      <td>No</td>\n",
       "      <td>Yes</td>\n",
       "      <td>No</td>\n",
       "      <td>Yes</td>\n",
       "    </tr>\n",
       "    <tr>\n",
       "      <th>7</th>\n",
       "      <td>6713-OKOMC</td>\n",
       "      <td>2019-04-01</td>\n",
       "      <td>2020-02-01</td>\n",
       "      <td>Month-to-month</td>\n",
       "      <td>No</td>\n",
       "      <td>Mailed check</td>\n",
       "      <td>29.75</td>\n",
       "      <td>300.48</td>\n",
       "      <td>Female</td>\n",
       "      <td>No</td>\n",
       "      <td>No</td>\n",
       "      <td>No</td>\n",
       "      <td>DSL</td>\n",
       "      <td>Yes</td>\n",
       "      <td>No</td>\n",
       "      <td>No</td>\n",
       "      <td>No</td>\n",
       "      <td>No</td>\n",
       "      <td>No</td>\n",
       "      <td>NaN</td>\n",
       "    </tr>\n",
       "    <tr>\n",
       "      <th>8</th>\n",
       "      <td>7892-POOKP</td>\n",
       "      <td>2017-07-01</td>\n",
       "      <td>2020-02-01</td>\n",
       "      <td>Month-to-month</td>\n",
       "      <td>Yes</td>\n",
       "      <td>Electronic check</td>\n",
       "      <td>104.80</td>\n",
       "      <td>3573.68</td>\n",
       "      <td>Female</td>\n",
       "      <td>No</td>\n",
       "      <td>Yes</td>\n",
       "      <td>No</td>\n",
       "      <td>Fiber optic</td>\n",
       "      <td>No</td>\n",
       "      <td>No</td>\n",
       "      <td>Yes</td>\n",
       "      <td>Yes</td>\n",
       "      <td>Yes</td>\n",
       "      <td>Yes</td>\n",
       "      <td>Yes</td>\n",
       "    </tr>\n",
       "    <tr>\n",
       "      <th>9</th>\n",
       "      <td>6388-TABGU</td>\n",
       "      <td>2014-12-01</td>\n",
       "      <td>2017-05-01</td>\n",
       "      <td>One year</td>\n",
       "      <td>No</td>\n",
       "      <td>Bank transfer (automatic)</td>\n",
       "      <td>56.15</td>\n",
       "      <td>1628.35</td>\n",
       "      <td>Male</td>\n",
       "      <td>No</td>\n",
       "      <td>No</td>\n",
       "      <td>Yes</td>\n",
       "      <td>DSL</td>\n",
       "      <td>Yes</td>\n",
       "      <td>Yes</td>\n",
       "      <td>No</td>\n",
       "      <td>No</td>\n",
       "      <td>No</td>\n",
       "      <td>No</td>\n",
       "      <td>No</td>\n",
       "    </tr>\n",
       "  </tbody>\n",
       "</table>\n",
       "</div>"
      ],
      "text/plain": [
       "  customer_id begin_date   end_date            type paperless_billing  \\\n",
       "0  7590-VHVEG 2020-01-01 2020-02-01  Month-to-month               Yes   \n",
       "1  5575-GNVDE 2017-04-01 2020-02-01        One year                No   \n",
       "2  3668-QPYBK 2019-10-01 2020-02-01  Month-to-month               Yes   \n",
       "3  7795-CFOCW 2016-05-01 2020-02-01        One year                No   \n",
       "4  9237-HQITU 2019-09-01 2020-02-01  Month-to-month               Yes   \n",
       "5  9305-CDSKC 2019-03-01 2020-02-01  Month-to-month               Yes   \n",
       "6  1452-KIOVK 2018-04-01 2020-02-01  Month-to-month               Yes   \n",
       "7  6713-OKOMC 2019-04-01 2020-02-01  Month-to-month                No   \n",
       "8  7892-POOKP 2017-07-01 2020-02-01  Month-to-month               Yes   \n",
       "9  6388-TABGU 2014-12-01 2017-05-01        One year                No   \n",
       "\n",
       "              payment_method  monthly_charges  total_charges  gender  \\\n",
       "0           Electronic check            29.85          31.04  Female   \n",
       "1               Mailed check            56.95        2071.84    Male   \n",
       "2               Mailed check            53.85         226.17    Male   \n",
       "3  Bank transfer (automatic)            42.30        1960.60    Male   \n",
       "4           Electronic check            70.70         353.50  Female   \n",
       "5           Electronic check            99.65        1150.96  Female   \n",
       "6    Credit card (automatic)            89.10        2058.21    Male   \n",
       "7               Mailed check            29.75         300.48  Female   \n",
       "8           Electronic check           104.80        3573.68  Female   \n",
       "9  Bank transfer (automatic)            56.15        1628.35    Male   \n",
       "\n",
       "  senior_citizen partner dependents internet_service online_security  \\\n",
       "0             No     Yes         No              DSL              No   \n",
       "1             No      No         No              DSL             Yes   \n",
       "2             No      No         No              DSL             Yes   \n",
       "3             No      No         No              DSL             Yes   \n",
       "4             No      No         No      Fiber optic              No   \n",
       "5             No      No         No      Fiber optic              No   \n",
       "6             No      No        Yes      Fiber optic              No   \n",
       "7             No      No         No              DSL             Yes   \n",
       "8             No     Yes         No      Fiber optic              No   \n",
       "9             No      No        Yes              DSL             Yes   \n",
       "\n",
       "  online_backup device_protection tech_support streaming_tv streaming_movies  \\\n",
       "0           Yes                No           No           No               No   \n",
       "1            No               Yes           No           No               No   \n",
       "2           Yes                No           No           No               No   \n",
       "3            No               Yes          Yes           No               No   \n",
       "4            No                No           No           No               No   \n",
       "5            No               Yes           No          Yes              Yes   \n",
       "6           Yes                No           No          Yes               No   \n",
       "7            No                No           No           No               No   \n",
       "8            No               Yes          Yes          Yes              Yes   \n",
       "9           Yes                No           No           No               No   \n",
       "\n",
       "  multiple_lines  \n",
       "0            NaN  \n",
       "1             No  \n",
       "2             No  \n",
       "3            NaN  \n",
       "4             No  \n",
       "5            Yes  \n",
       "6            Yes  \n",
       "7            NaN  \n",
       "8            Yes  \n",
       "9             No  "
      ]
     },
     "execution_count": 63,
     "metadata": {},
     "output_type": "execute_result"
    }
   ],
   "source": [
    "data.head(10)"
   ]
  },
  {
   "cell_type": "code",
   "execution_count": 64,
   "id": "4c2a2128",
   "metadata": {
    "scrolled": false
   },
   "outputs": [
    {
     "name": "stdout",
     "output_type": "stream",
     "text": [
      "<class 'pandas.core.frame.DataFrame'>\n",
      "Int64Index: 7043 entries, 0 to 7042\n",
      "Data columns (total 20 columns):\n",
      " #   Column             Non-Null Count  Dtype         \n",
      "---  ------             --------------  -----         \n",
      " 0   customer_id        7043 non-null   object        \n",
      " 1   begin_date         7043 non-null   datetime64[ns]\n",
      " 2   end_date           7043 non-null   datetime64[ns]\n",
      " 3   type               7043 non-null   object        \n",
      " 4   paperless_billing  7043 non-null   object        \n",
      " 5   payment_method     7043 non-null   object        \n",
      " 6   monthly_charges    7043 non-null   float64       \n",
      " 7   total_charges      7043 non-null   float64       \n",
      " 8   gender             7043 non-null   object        \n",
      " 9   senior_citizen     7043 non-null   object        \n",
      " 10  partner            7043 non-null   object        \n",
      " 11  dependents         7043 non-null   object        \n",
      " 12  internet_service   5517 non-null   object        \n",
      " 13  online_security    5517 non-null   object        \n",
      " 14  online_backup      5517 non-null   object        \n",
      " 15  device_protection  5517 non-null   object        \n",
      " 16  tech_support       5517 non-null   object        \n",
      " 17  streaming_tv       5517 non-null   object        \n",
      " 18  streaming_movies   5517 non-null   object        \n",
      " 19  multiple_lines     6361 non-null   object        \n",
      "dtypes: datetime64[ns](2), float64(2), object(16)\n",
      "memory usage: 1.1+ MB\n"
     ]
    }
   ],
   "source": [
    "data.info()"
   ]
  },
  {
   "cell_type": "markdown",
   "id": "c50ef61c",
   "metadata": {},
   "source": [
    "Количество строк единого датафрейма равно количеству строк датафрейма df_contract. Клиенты не были утеряны или добавлены"
   ]
  },
  {
   "cell_type": "markdown",
   "id": "462165b1",
   "metadata": {},
   "source": [
    "После объединения появились пропуски в некоторых столбцах, точно конкретизировать данные пропуски нет возможности, поэтому все пропущенные значения заменим на значение “Unknow”"
   ]
  },
  {
   "cell_type": "code",
   "execution_count": 65,
   "id": "438263aa",
   "metadata": {},
   "outputs": [
    {
     "data": {
      "text/plain": [
       "customer_id             0\n",
       "begin_date              0\n",
       "end_date                0\n",
       "type                    0\n",
       "paperless_billing       0\n",
       "payment_method          0\n",
       "monthly_charges         0\n",
       "total_charges           0\n",
       "gender                  0\n",
       "senior_citizen          0\n",
       "partner                 0\n",
       "dependents              0\n",
       "internet_service     1526\n",
       "online_security      1526\n",
       "online_backup        1526\n",
       "device_protection    1526\n",
       "tech_support         1526\n",
       "streaming_tv         1526\n",
       "streaming_movies     1526\n",
       "multiple_lines        682\n",
       "dtype: int64"
      ]
     },
     "execution_count": 65,
     "metadata": {},
     "output_type": "execute_result"
    }
   ],
   "source": [
    "data.isna().sum()"
   ]
  },
  {
   "cell_type": "code",
   "execution_count": 66,
   "id": "37e33864",
   "metadata": {},
   "outputs": [],
   "source": [
    "data = data.fillna('Unknow')"
   ]
  },
  {
   "cell_type": "code",
   "execution_count": 67,
   "id": "9a462126",
   "metadata": {},
   "outputs": [
    {
     "data": {
      "text/plain": [
       "customer_id          0\n",
       "begin_date           0\n",
       "end_date             0\n",
       "type                 0\n",
       "paperless_billing    0\n",
       "payment_method       0\n",
       "monthly_charges      0\n",
       "total_charges        0\n",
       "gender               0\n",
       "senior_citizen       0\n",
       "partner              0\n",
       "dependents           0\n",
       "internet_service     0\n",
       "online_security      0\n",
       "online_backup        0\n",
       "device_protection    0\n",
       "tech_support         0\n",
       "streaming_tv         0\n",
       "streaming_movies     0\n",
       "multiple_lines       0\n",
       "dtype: int64"
      ]
     },
     "execution_count": 67,
     "metadata": {},
     "output_type": "execute_result"
    }
   ],
   "source": [
    "data.isna().sum()"
   ]
  },
  {
   "cell_type": "markdown",
   "id": "2bc4d38f",
   "metadata": {},
   "source": [
    "Добавим несколько новых столбцов в датафрейм: \n",
    "1.\tИнформация о длительности договора в днях\n",
    "2.\tИнформация о том, активен ли договор \n"
   ]
  },
  {
   "cell_type": "code",
   "execution_count": 68,
   "id": "bc132c30",
   "metadata": {},
   "outputs": [],
   "source": [
    "data['number_of_day'] = (data['end_date'] - data['begin_date']).dt.days.astype('float')"
   ]
  },
  {
   "cell_type": "code",
   "execution_count": 69,
   "id": "77797331",
   "metadata": {},
   "outputs": [],
   "source": [
    "data['leave'] = 1\n",
    "data.loc[data['end_date'] == '2020-02-01', 'leave'] = 0"
   ]
  },
  {
   "cell_type": "markdown",
   "id": "78335287",
   "metadata": {},
   "source": [
    "Удалим колонки “begin_date” и “ end_date”, так как новые колонки их взаимозаменяют  "
   ]
  },
  {
   "cell_type": "code",
   "execution_count": 70,
   "id": "c6458fde",
   "metadata": {},
   "outputs": [],
   "source": [
    "data = data.drop(['begin_date', 'end_date'], axis=1)"
   ]
  },
  {
   "cell_type": "markdown",
   "id": "56b1a728",
   "metadata": {},
   "source": [
    "Выведем первые 5 строк итогового датафрейма"
   ]
  },
  {
   "cell_type": "code",
   "execution_count": 71,
   "id": "17abc65f",
   "metadata": {},
   "outputs": [
    {
     "data": {
      "text/html": [
       "<div>\n",
       "<style scoped>\n",
       "    .dataframe tbody tr th:only-of-type {\n",
       "        vertical-align: middle;\n",
       "    }\n",
       "\n",
       "    .dataframe tbody tr th {\n",
       "        vertical-align: top;\n",
       "    }\n",
       "\n",
       "    .dataframe thead th {\n",
       "        text-align: right;\n",
       "    }\n",
       "</style>\n",
       "<table border=\"1\" class=\"dataframe\">\n",
       "  <thead>\n",
       "    <tr style=\"text-align: right;\">\n",
       "      <th></th>\n",
       "      <th>customer_id</th>\n",
       "      <th>type</th>\n",
       "      <th>paperless_billing</th>\n",
       "      <th>payment_method</th>\n",
       "      <th>monthly_charges</th>\n",
       "      <th>total_charges</th>\n",
       "      <th>gender</th>\n",
       "      <th>senior_citizen</th>\n",
       "      <th>partner</th>\n",
       "      <th>dependents</th>\n",
       "      <th>internet_service</th>\n",
       "      <th>online_security</th>\n",
       "      <th>online_backup</th>\n",
       "      <th>device_protection</th>\n",
       "      <th>tech_support</th>\n",
       "      <th>streaming_tv</th>\n",
       "      <th>streaming_movies</th>\n",
       "      <th>multiple_lines</th>\n",
       "      <th>number_of_day</th>\n",
       "      <th>leave</th>\n",
       "    </tr>\n",
       "  </thead>\n",
       "  <tbody>\n",
       "    <tr>\n",
       "      <th>0</th>\n",
       "      <td>7590-VHVEG</td>\n",
       "      <td>Month-to-month</td>\n",
       "      <td>Yes</td>\n",
       "      <td>Electronic check</td>\n",
       "      <td>29.85</td>\n",
       "      <td>31.04</td>\n",
       "      <td>Female</td>\n",
       "      <td>No</td>\n",
       "      <td>Yes</td>\n",
       "      <td>No</td>\n",
       "      <td>DSL</td>\n",
       "      <td>No</td>\n",
       "      <td>Yes</td>\n",
       "      <td>No</td>\n",
       "      <td>No</td>\n",
       "      <td>No</td>\n",
       "      <td>No</td>\n",
       "      <td>Unknow</td>\n",
       "      <td>31.0</td>\n",
       "      <td>0</td>\n",
       "    </tr>\n",
       "    <tr>\n",
       "      <th>1</th>\n",
       "      <td>5575-GNVDE</td>\n",
       "      <td>One year</td>\n",
       "      <td>No</td>\n",
       "      <td>Mailed check</td>\n",
       "      <td>56.95</td>\n",
       "      <td>2071.84</td>\n",
       "      <td>Male</td>\n",
       "      <td>No</td>\n",
       "      <td>No</td>\n",
       "      <td>No</td>\n",
       "      <td>DSL</td>\n",
       "      <td>Yes</td>\n",
       "      <td>No</td>\n",
       "      <td>Yes</td>\n",
       "      <td>No</td>\n",
       "      <td>No</td>\n",
       "      <td>No</td>\n",
       "      <td>No</td>\n",
       "      <td>1036.0</td>\n",
       "      <td>0</td>\n",
       "    </tr>\n",
       "    <tr>\n",
       "      <th>2</th>\n",
       "      <td>3668-QPYBK</td>\n",
       "      <td>Month-to-month</td>\n",
       "      <td>Yes</td>\n",
       "      <td>Mailed check</td>\n",
       "      <td>53.85</td>\n",
       "      <td>226.17</td>\n",
       "      <td>Male</td>\n",
       "      <td>No</td>\n",
       "      <td>No</td>\n",
       "      <td>No</td>\n",
       "      <td>DSL</td>\n",
       "      <td>Yes</td>\n",
       "      <td>Yes</td>\n",
       "      <td>No</td>\n",
       "      <td>No</td>\n",
       "      <td>No</td>\n",
       "      <td>No</td>\n",
       "      <td>No</td>\n",
       "      <td>123.0</td>\n",
       "      <td>0</td>\n",
       "    </tr>\n",
       "    <tr>\n",
       "      <th>3</th>\n",
       "      <td>7795-CFOCW</td>\n",
       "      <td>One year</td>\n",
       "      <td>No</td>\n",
       "      <td>Bank transfer (automatic)</td>\n",
       "      <td>42.30</td>\n",
       "      <td>1960.60</td>\n",
       "      <td>Male</td>\n",
       "      <td>No</td>\n",
       "      <td>No</td>\n",
       "      <td>No</td>\n",
       "      <td>DSL</td>\n",
       "      <td>Yes</td>\n",
       "      <td>No</td>\n",
       "      <td>Yes</td>\n",
       "      <td>Yes</td>\n",
       "      <td>No</td>\n",
       "      <td>No</td>\n",
       "      <td>Unknow</td>\n",
       "      <td>1371.0</td>\n",
       "      <td>0</td>\n",
       "    </tr>\n",
       "    <tr>\n",
       "      <th>4</th>\n",
       "      <td>9237-HQITU</td>\n",
       "      <td>Month-to-month</td>\n",
       "      <td>Yes</td>\n",
       "      <td>Electronic check</td>\n",
       "      <td>70.70</td>\n",
       "      <td>353.50</td>\n",
       "      <td>Female</td>\n",
       "      <td>No</td>\n",
       "      <td>No</td>\n",
       "      <td>No</td>\n",
       "      <td>Fiber optic</td>\n",
       "      <td>No</td>\n",
       "      <td>No</td>\n",
       "      <td>No</td>\n",
       "      <td>No</td>\n",
       "      <td>No</td>\n",
       "      <td>No</td>\n",
       "      <td>No</td>\n",
       "      <td>153.0</td>\n",
       "      <td>0</td>\n",
       "    </tr>\n",
       "  </tbody>\n",
       "</table>\n",
       "</div>"
      ],
      "text/plain": [
       "  customer_id            type paperless_billing             payment_method  \\\n",
       "0  7590-VHVEG  Month-to-month               Yes           Electronic check   \n",
       "1  5575-GNVDE        One year                No               Mailed check   \n",
       "2  3668-QPYBK  Month-to-month               Yes               Mailed check   \n",
       "3  7795-CFOCW        One year                No  Bank transfer (automatic)   \n",
       "4  9237-HQITU  Month-to-month               Yes           Electronic check   \n",
       "\n",
       "   monthly_charges  total_charges  gender senior_citizen partner dependents  \\\n",
       "0            29.85          31.04  Female             No     Yes         No   \n",
       "1            56.95        2071.84    Male             No      No         No   \n",
       "2            53.85         226.17    Male             No      No         No   \n",
       "3            42.30        1960.60    Male             No      No         No   \n",
       "4            70.70         353.50  Female             No      No         No   \n",
       "\n",
       "  internet_service online_security online_backup device_protection  \\\n",
       "0              DSL              No           Yes                No   \n",
       "1              DSL             Yes            No               Yes   \n",
       "2              DSL             Yes           Yes                No   \n",
       "3              DSL             Yes            No               Yes   \n",
       "4      Fiber optic              No            No                No   \n",
       "\n",
       "  tech_support streaming_tv streaming_movies multiple_lines  number_of_day  \\\n",
       "0           No           No               No         Unknow           31.0   \n",
       "1           No           No               No             No         1036.0   \n",
       "2           No           No               No             No          123.0   \n",
       "3          Yes           No               No         Unknow         1371.0   \n",
       "4           No           No               No             No          153.0   \n",
       "\n",
       "   leave  \n",
       "0      0  \n",
       "1      0  \n",
       "2      0  \n",
       "3      0  \n",
       "4      0  "
      ]
     },
     "execution_count": 71,
     "metadata": {},
     "output_type": "execute_result"
    }
   ],
   "source": [
    "data.head()"
   ]
  },
  {
   "cell_type": "markdown",
   "id": "ea3cb310",
   "metadata": {},
   "source": [
    "Поскольку колонка “leave” является таргетным признаком, посмотрим на баланс получившихся классов "
   ]
  },
  {
   "cell_type": "code",
   "execution_count": 72,
   "id": "0851ee14",
   "metadata": {},
   "outputs": [
    {
     "data": {
      "image/png": "[encoded data removed]",
      "text/plain": [
       "<Figure size 640x480 with 1 Axes>"
      ]
     },
     "metadata": {},
     "output_type": "display_data"
    }
   ],
   "source": [
    "sns.histplot(data=data['leave'], bins=2)\n",
    "plt.title('Гистограмма для колонки \"leave\"')\n",
    "plt.xlabel('Leave');"
   ]
  },
  {
   "cell_type": "markdown",
   "id": "30bbdddf",
   "metadata": {},
   "source": [
    "Класс “0” намного превышает класс “1”, учтем это при обучении модели   "
   ]
  },
  {
   "cell_type": "markdown",
   "id": "986040f5",
   "metadata": {},
   "source": [
    "**Вывод:**\n",
    "\n",
    "В данном пункте все датафреймы объединены в единый датафрейм. Количество строк единого датафрейма равно количеству строк датафрейма df_contract. Клиенты не были утеряны или добавлены. Появившиеся пропуски заменены на значения \"Unknow\". Давлены 2 колонки с информацией о длительности договора в днях - колонка \"number_of_day\" и информацией о том, активен ли договор - колонка \"leave\". Колонка \"leave\" является таргетным признаком. Удалены колонки “begin_date” и “end_date”, так как новые колонки их взаимозаменяют. Построена гистограмма для колонки \"leave\", для отображения баланса классов. На гистограмме наблюдается сильный дисбаланс классов, это необходимо учесть при обучении модели.  "
   ]
  },
  {
   "cell_type": "markdown",
   "id": "759c0b43",
   "metadata": {},
   "source": [
    "### 3.7 Вопросы по данным"
   ]
  },
  {
   "cell_type": "markdown",
   "id": "cc1afc1f",
   "metadata": {},
   "source": [
    "1.\tКорректно ли считать, что если в изначальном датафрейме в колонке “end_date” стоит дата “2020-02-01” (дата выгрузки), то договор на оказание услуг не закрыт?"
   ]
  },
  {
   "cell_type": "markdown",
   "id": "33ac4898",
   "metadata": {},
   "source": [
    "## 4. Подготовка данных к обучению модели"
   ]
  },
  {
   "cell_type": "markdown",
   "id": "2a605668",
   "metadata": {},
   "source": [
    "### 4.1 Разделение датафрейма на выборки"
   ]
  },
  {
   "cell_type": "markdown",
   "id": "8ce72257",
   "metadata": {},
   "source": [
    "Разделим датасет на 2 выборки: Выборка с фичами и выборка с таргетным признаком"
   ]
  },
  {
   "cell_type": "code",
   "execution_count": 73,
   "id": "896acd64",
   "metadata": {},
   "outputs": [],
   "source": [
    "features = data.drop(['leave', 'customer_id'], axis=1)\n",
    "target = data['leave']"
   ]
  },
  {
   "cell_type": "markdown",
   "id": "f95fcd96",
   "metadata": {},
   "source": [
    "Разделим получившиеся выборки на выборки для обучения и теста. Размер выборки для теста - 25% от начального размера"
   ]
  },
  {
   "cell_type": "code",
   "execution_count": 74,
   "id": "ed4103b0",
   "metadata": {},
   "outputs": [
    {
     "name": "stdout",
     "output_type": "stream",
     "text": [
      "Размер обучающей выборки для фичей: (5282, 18)\n",
      "Размер обучающей выборки для таргета: 5282\n",
      "Размер тестовой выборки для фичей: (1761, 18)\n",
      "Размер тестовой выборки для таргета: 1761\n"
     ]
    }
   ],
   "source": [
    "RANDOM_STATE = 60623\n",
    "\n",
    "train_features, test_features, train_target, test_target = train_test_split(features,\n",
    "                                                                            target,\n",
    "                                                                            test_size=0.25,\n",
    "                                                                            random_state=RANDOM_STATE)\n",
    "print(f'Размер обучающей выборки для фичей: {train_features.shape}\\n\\\n",
    "Размер обучающей выборки для таргета: {train_target.shape[0]}\\n\\\n",
    "Размер тестовой выборки для фичей: {test_features.shape}\\n\\\n",
    "Размер тестовой выборки для таргета: {test_target.shape[0]}')"
   ]
  },
  {
   "cell_type": "markdown",
   "id": "ec8b2cd0",
   "metadata": {},
   "source": [
    "После разделения проверили размерности. Размерности совпадают с ожидаемыми "
   ]
  },
  {
   "cell_type": "markdown",
   "id": "d27c4b51",
   "metadata": {},
   "source": [
    "### 4.2 Кодирование данных для линейной модели"
   ]
  },
  {
   "cell_type": "markdown",
   "id": "895d40e9",
   "metadata": {},
   "source": [
    "Для корректной работы линейных моделей, категориальные признаки  необходимо закодировать методом One-Hot Encoding и провести масштабирование численных признаков "
   ]
  },
  {
   "cell_type": "markdown",
   "id": "36e42bf6",
   "metadata": {},
   "source": [
    "Закодируем категориальные признаки методом One-Hot Encoding"
   ]
  },
  {
   "cell_type": "code",
   "execution_count": 75,
   "id": "d149b07f",
   "metadata": {},
   "outputs": [],
   "source": [
    "train_features_reg = train_features.copy()\n",
    "test_features_reg = test_features.copy()\n",
    "train_target_reg = train_target.copy()\n",
    "test_target_reg = test_target.copy()\n",
    "\n",
    "ohe_features_ridge = train_features_reg.select_dtypes(include='object').columns.to_list()\n",
    "\n",
    "encoder_ohe = OneHotEncoder(drop='first', handle_unknown='error', sparse=False)\n",
    "encoder_ohe.fit(train_features_reg[ohe_features_ridge])\n",
    "train_features_reg[\n",
    "    encoder_ohe.get_feature_names()\n",
    "] = encoder_ohe.transform(train_features_reg[ohe_features_ridge])\n",
    "test_features_reg[\n",
    "    encoder_ohe.get_feature_names()\n",
    "] = encoder_ohe.transform(test_features_reg[ohe_features_ridge])\n",
    "\n",
    "train_features_reg = train_features_reg.drop(ohe_features_ridge, axis=1)\n",
    "test_features_reg = test_features_reg.drop(ohe_features_ridge, axis=1)"
   ]
  },
  {
   "cell_type": "markdown",
   "id": "2f602c09",
   "metadata": {},
   "source": [
    "Промасштабируем численные признаки "
   ]
  },
  {
   "cell_type": "code",
   "execution_count": 76,
   "id": "5aa943d2",
   "metadata": {},
   "outputs": [],
   "source": [
    "standart_columns = ['monthly_charges', 'total_charges', 'number_of_day']\n",
    "\n",
    "train_features_reg_scaler = train_features_reg.copy()\n",
    "test_features_reg_scaler = test_features_reg.copy()\n",
    "\n",
    "scaler = StandardScaler()\n",
    "scaler.fit(train_features_reg_scaler[standart_columns])\n",
    "train_features_reg_scaler[standart_columns] = scaler.transform(train_features_reg_scaler[standart_columns])\n",
    "test_features_reg_scaler[standart_columns] = scaler.transform(test_features_reg_scaler[standart_columns])"
   ]
  },
  {
   "cell_type": "markdown",
   "id": "8e9c85bf",
   "metadata": {},
   "source": [
    "### 4.3 Кодирование данных для модели деревьев"
   ]
  },
  {
   "cell_type": "markdown",
   "id": "0206aacf",
   "metadata": {},
   "source": [
    "Для корректной работы модели деревьев необходимо закодировать категориальные признаки. Масштабирование применять не обязательно. Кодировать признаки можно методом как One-Hot Encoding, так и OrdinalEncoding. Поскольку в предыдущем пункте кодирование методом One-Hot Encoding не добавило огромное количество столбцов, то в данном случае можно скопировать выборку с закодированными данными без масштабирования из предыдущего пункта "
   ]
  },
  {
   "cell_type": "code",
   "execution_count": 77,
   "id": "21547bef",
   "metadata": {},
   "outputs": [],
   "source": [
    "train_features_tree = train_features_reg.copy()\n",
    "test_features_tree = test_features_reg.copy()\n",
    "train_target_tree = train_target.copy()\n",
    "test_target_tree = test_target.copy()"
   ]
  },
  {
   "cell_type": "markdown",
   "id": "4328f90f",
   "metadata": {},
   "source": [
    "### 4.4 Кодирование данных для модели градиентного бустинга"
   ]
  },
  {
   "cell_type": "markdown",
   "id": "e1102a1a",
   "metadata": {},
   "source": [
    "Модель градиентного бустинга CatBoost может кодировать признаки внутри себя, поэтому дополнительная обработка данных с нашей стороны не требуется  "
   ]
  },
  {
   "cell_type": "markdown",
   "id": "9af8e9ed",
   "metadata": {},
   "source": [
    "## 5. Подбор гиперпараметров моделей и выбор лучшей модели"
   ]
  },
  {
   "cell_type": "markdown",
   "id": "47d6b3ed",
   "metadata": {},
   "source": [
    "При выборе лучшей модели необходимо достигнуть показателя метрики ROC_AUC не меньше 0.85 "
   ]
  },
  {
   "cell_type": "markdown",
   "id": "c1e06bde",
   "metadata": {},
   "source": [
    "### 5.1 Подбор гиперпараметров и оценка линейной модели"
   ]
  },
  {
   "cell_type": "markdown",
   "id": "556c95cb",
   "metadata": {},
   "source": [
    "Обучим модель логистической регрессии  "
   ]
  },
  {
   "cell_type": "code",
   "execution_count": 78,
   "id": "7c8ea657",
   "metadata": {},
   "outputs": [
    {
     "name": "stdout",
     "output_type": "stream",
     "text": [
      "ROC_AUC модели: 0.7563082877608136\n",
      "Гиперпараметры модели: {'C': 1, 'class_weight': 'balanced', 'max_iter': 500, 'random_state': 60623, 'solver': 'sag'}\n"
     ]
    }
   ],
   "source": [
    "grid_param_reg = {'random_state': [RANDOM_STATE],\n",
    "                  'class_weight': ['balanced'],\n",
    "                  'C': range(1, 6),\n",
    "                  'solver': ['lbfgs', 'liblinear', 'sag', 'saga'],\n",
    "                  'max_iter': range(500, 1100, 100)}\n",
    "\n",
    "model_reg = LogisticRegression()\n",
    "\n",
    "grid_reg = GridSearchCV(model_reg, param_grid=grid_param_reg, cv=3, scoring='roc_auc')\n",
    "grid_reg.fit(train_features_reg_scaler, train_target_reg)\n",
    "print(f'ROC_AUC модели: {grid_reg.best_score_}\\nГиперпараметры модели: {grid_reg.best_params_}')"
   ]
  },
  {
   "cell_type": "markdown",
   "id": "a2841ee7",
   "metadata": {},
   "source": [
    "**Вывод:** После подбора гиперпараметров модель логистической регрессии достигла показателя метрики ROC_AUC  - 0.756, что меньше требуемого порога.   "
   ]
  },
  {
   "cell_type": "markdown",
   "id": "8127ff2b",
   "metadata": {},
   "source": [
    "### 5.2 Подбор гиперпараметров и оценка дерева решений"
   ]
  },
  {
   "cell_type": "markdown",
   "id": "d2eb2221",
   "metadata": {},
   "source": [
    "Обучим модель дерева решений"
   ]
  },
  {
   "cell_type": "code",
   "execution_count": 79,
   "id": "d80d4f75",
   "metadata": {},
   "outputs": [
    {
     "name": "stdout",
     "output_type": "stream",
     "text": [
      "ROC_AUC модели: 0.7810136054327738\n",
      "Гиперпараметры модели: {'class_weight': 'balanced', 'max_depth': 6, 'min_samples_leaf': 1, 'min_samples_split': 2, 'random_state': 60623}\n"
     ]
    }
   ],
   "source": [
    "grid_param_tree = {'random_state': [RANDOM_STATE],\n",
    "                  'class_weight': ['balanced'],\n",
    "                  'max_depth': range(1, 11),\n",
    "                  'min_samples_split': range(2, 12, 2),\n",
    "                  'min_samples_leaf': range(1, 5)}\n",
    "\n",
    "model_tree = DecisionTreeClassifier()\n",
    "\n",
    "grid_tree = GridSearchCV(model_tree, param_grid=grid_param_tree, cv=3, scoring='roc_auc')\n",
    "grid_tree.fit(train_features_tree, train_target_tree)\n",
    "print(f'ROC_AUC модели: {grid_tree.best_score_}\\nГиперпараметры модели: {grid_tree.best_params_}')"
   ]
  },
  {
   "cell_type": "markdown",
   "id": "218acc6e",
   "metadata": {},
   "source": [
    "**Вывод:** После подбора гиперпараметров модель дерева решений достигла показателя метрики ROC_AUC  - 0.781. Показатель лучше чем у логистической регрессии, но все ровно меньше требуемого порога."
   ]
  },
  {
   "cell_type": "markdown",
   "id": "5e63d7ca",
   "metadata": {},
   "source": [
    "### 5.3 Подбор гиперпараметров и оценка случайного леса"
   ]
  },
  {
   "cell_type": "markdown",
   "id": "12c0e1a4",
   "metadata": {},
   "source": [
    "Обучим модель случайного леса"
   ]
  },
  {
   "cell_type": "code",
   "execution_count": 80,
   "id": "9d89352e",
   "metadata": {},
   "outputs": [
    {
     "name": "stdout",
     "output_type": "stream",
     "text": [
      "ROC_AUC модели: 0.8196456913251252\n",
      "Гиперпараметры модели: {'class_weight': 'balanced', 'max_depth': 10, 'min_samples_leaf': 4, 'min_samples_split': 2, 'n_estimators': 52, 'random_state': 60623}\n"
     ]
    }
   ],
   "source": [
    "grid_param_forest = {'random_state': [RANDOM_STATE],\n",
    "                  'class_weight': ['balanced'],\n",
    "                  'max_depth': range(1, 11),\n",
    "                  'n_estimators': range(2, 102, 10),\n",
    "                  'min_samples_split': range(2, 12, 2),\n",
    "                  'min_samples_leaf': range(1, 5)}\n",
    "\n",
    "model_forest = RandomForestClassifier()\n",
    "\n",
    "grid_forest = GridSearchCV(model_forest, param_grid=grid_param_forest, cv=3, scoring='roc_auc')\n",
    "grid_forest.fit(train_features_tree, train_target_tree)\n",
    "print(f'ROC_AUC модели: {grid_forest.best_score_}\\nГиперпараметры модели: {grid_forest.best_params_}')"
   ]
  },
  {
   "cell_type": "markdown",
   "id": "76333095",
   "metadata": {},
   "source": [
    "**Вывод:** После подбора гиперпараметров модель случайного леса достигла показателя метрики ROC_AUC  - 0.820. Показатель лучше чем у логистической регрессии и дерева решений, но все ровно меньше требуемого порога."
   ]
  },
  {
   "cell_type": "markdown",
   "id": "2077d2cd",
   "metadata": {},
   "source": [
    "### 5.4 Подбор гиперпараметров и оценка градиентного бустинга CatBoost"
   ]
  },
  {
   "cell_type": "markdown",
   "id": "b6dfd9bc",
   "metadata": {},
   "source": [
    "Обучим модель градиентного бустинга"
   ]
  },
  {
   "cell_type": "code",
   "execution_count": 81,
   "id": "1c5df38c",
   "metadata": {
    "scrolled": true
   },
   "outputs": [
    {
     "name": "stdout",
     "output_type": "stream",
     "text": [
      "ROC_AUC модели: 0.8821918048765603\n",
      "Гиперпараметры модели: {'auto_class_weights': 'Balanced', 'iterations': 3000, 'learning_rate': 0.03, 'random_state': 60623}\n"
     ]
    }
   ],
   "source": [
    "grid_param_cat = {'random_state': [RANDOM_STATE],\n",
    "                  'auto_class_weights': ['Balanced'],\n",
    "                  'iterations': range(1000, 3001, 200),\n",
    "                  'learning_rate': [0.01, 0.03, 0.1]}\n",
    "\n",
    "categorical_features_indices = np.where(train_features.dtypes != np.float64)[0]\n",
    "\n",
    "model_cat = CatBoostClassifier()\n",
    "\n",
    "grid_cat = GridSearchCV(model_cat, param_grid=grid_param_cat, cv=3, scoring='roc_auc')\n",
    "grid_cat.fit(train_features, train_target, verbose=False, cat_features=categorical_features_indices)\n",
    "print(f'ROC_AUC модели: {grid_cat.best_score_}\\nГиперпараметры модели: {grid_cat.best_params_}')"
   ]
  },
  {
   "cell_type": "markdown",
   "id": "820b1112",
   "metadata": {},
   "source": [
    "**Вывод:** После подбора гиперпараметров модель градиентного бустинга достигла показателя метрики ROC_AUC  - 0.882 и привысила требуемый порог. Это наилучший показать среди всех моделей, поэтому получившиеся модель взята для финального тестирования."
   ]
  },
  {
   "cell_type": "markdown",
   "id": "988d9b3e",
   "metadata": {},
   "source": [
    "### 5.5 Финальное тестирование лучшей модели"
   ]
  },
  {
   "cell_type": "markdown",
   "id": "a2d30ea4",
   "metadata": {},
   "source": [
    "Проведем финальное тестирование для модели градиентного бустинга"
   ]
  },
  {
   "cell_type": "code",
   "execution_count": 82,
   "id": "189977a2",
   "metadata": {},
   "outputs": [
    {
     "data": {
      "text/plain": [
       "0.9160532599667774"
      ]
     },
     "execution_count": 82,
     "metadata": {},
     "output_type": "execute_result"
    }
   ],
   "source": [
    "final_model = grid_cat.best_estimator_\n",
    "final_model.fit(train_features, train_target, verbose=False, cat_features=categorical_features_indices)\n",
    "final_probs = final_model.predict_proba(test_features)[:, 1]\n",
    "final_auc = roc_auc_score(test_target, final_probs)\n",
    "final_auc"
   ]
  },
  {
   "cell_type": "markdown",
   "id": "9c805bb0",
   "metadata": {},
   "source": [
    "На финальном тестировании модель достигла показателя метрики ROC_AUC – 0.916, что выше заданного порога в 0.85"
   ]
  },
  {
   "cell_type": "markdown",
   "id": "778a9e88",
   "metadata": {},
   "source": [
    "Построим матрицу ошибок "
   ]
  },
  {
   "cell_type": "code",
   "execution_count": 83,
   "id": "ca593f35",
   "metadata": {},
   "outputs": [
    {
     "data": {
      "image/png": "[encoded data removed]",
      "text/plain": [
       "<Figure size 640x480 with 2 Axes>"
      ]
     },
     "metadata": {},
     "output_type": "display_data"
    },
    {
     "name": "stdout",
     "output_type": "stream",
     "text": [
      "Истинно отрицательные ответы(TN) - 1405\n",
      "Ложноположительные ответы(FP) - 100\n",
      "Ложноотрицательные ответы(FN) - 79\n",
      "Истинно положительные ответы(TP) - 177\n",
      "Полнота(Recall) - 0.69140625\n",
      "Точность(Precision) - 0.6389891696750902\n",
      "F1-Мера - 0.6641651031894934\n"
     ]
    }
   ],
   "source": [
    "fpr, tpr, thresholds = roc_curve(test_target, final_probs)\n",
    "final_predict = final_model.predict(test_features)\n",
    "cm = confusion_matrix(test_target, final_predict, labels=final_model.classes_)\n",
    "disp = ConfusionMatrixDisplay(confusion_matrix=cm,\n",
    "                               display_labels=final_model.classes_)\n",
    "disp.plot()\n",
    "plt.show()\n",
    "print(f'Истинно отрицательные ответы(TN) - {cm[0, 0]}\\n\\\n",
    "Ложноположительные ответы(FP) - {cm[0, 1]}\\n\\\n",
    "Ложноотрицательные ответы(FN) - {cm[1, 0]}\\n\\\n",
    "Истинно положительные ответы(TP) - {cm[1, 1]}\\n\\\n",
    "Полнота(Recall) - {recall_score(test_target, final_predict)}\\n\\\n",
    "Точность(Precision) - {precision_score(test_target, final_predict)}\\n\\\n",
    "F1-Мера - {f1_score(test_target, final_predict)}')"
   ]
  },
  {
   "cell_type": "markdown",
   "id": "c42a725f",
   "metadata": {},
   "source": [
    "Построим график важности признаков для модели"
   ]
  },
  {
   "cell_type": "code",
   "execution_count": 84,
   "id": "74d96706",
   "metadata": {},
   "outputs": [
    {
     "data": {
      "image/png": "[encoded data removed]",
      "text/plain": [
       "<Figure size 1000x800 with 1 Axes>"
      ]
     },
     "metadata": {},
     "output_type": "display_data"
    }
   ],
   "source": [
    "cat_imp = pd.Series(final_model.get_feature_importance(),\n",
    "                         train_features.columns)\n",
    "fig, ax = plt.subplots(figsize=(10,8))\n",
    "cat_imp.plot.bar(ax=ax)\n",
    "ax.set_title(\"Важность признаков\")\n",
    "fig.tight_layout()"
   ]
  },
  {
   "cell_type": "markdown",
   "id": "6dc0090f",
   "metadata": {},
   "source": [
    "**Вывод:** Модель градиентного бустинга показала достигла показателя метрики ROC_AUC – 0.916,что выше заданного порога в 0.85. Для финальной модели была пострена матрица ошибок и проанализорванны метрики связанные с матрицей. Показатели следующие: \n",
    "- Полнота(Recall) - 0.69140625 - доля положительных среди всех ответов\n",
    "- Точность(Precision) - 0.6389891696750902 - количество отрицательных ответов которые нашла модель, пока искала положительные\n",
    "- F1-Мера - 0.6641651031894934 - среднее гармоническое полноты и точности\n",
    "\n",
    "Также построен график важности признаков для модели. Наиболее важным признаком для модели является информация о том о длительности договора в днях"
   ]
  },
  {
   "cell_type": "markdown",
   "id": "13cc2572",
   "metadata": {},
   "source": [
    "### 5.6 Сравнение лучшей модели с dummy-моделью"
   ]
  },
  {
   "cell_type": "markdown",
   "id": "d34301c6",
   "metadata": {},
   "source": [
    "Сравнение модели с dummy-моделью, или тест на адекватность предсказаний, можно произвести графическим способом – сравнить площади на ROC-кривой случайной модели и финальной модели. ROC-кривая случайной модели прямая линия с координатами (0,0) (1.1)."
   ]
  },
  {
   "cell_type": "code",
   "execution_count": 85,
   "id": "571406c4",
   "metadata": {},
   "outputs": [
    {
     "data": {
      "image/png": "[encoded data removed]",
      "text/plain": [
       "<Figure size 640x480 with 1 Axes>"
      ]
     },
     "metadata": {},
     "output_type": "display_data"
    }
   ],
   "source": [
    "fpr, tpr, thresholds = roc_curve(test_target, final_probs)\n",
    "plt.plot(fpr,tpr)\n",
    "plt.plot([0, 1], [0, 1], linestyle='--')\n",
    "plt.xlim([0.0, 1.0])\n",
    "plt.ylim([0.0, 1.0])\n",
    "plt.xlabel('False Positive Rate')\n",
    "plt.ylabel('True Positive Rate')\n",
    "plt.title('ROC-кривая')\n",
    "plt.show()"
   ]
  },
  {
   "cell_type": "markdown",
   "id": "dec393a4",
   "metadata": {},
   "source": [
    "Графически видно, что площадь под ROC-кривой финальной модели отличается от площади ROC-кривой случайной модели в большую сторону, использование модели градиентного бустинга можно считать оправданным . "
   ]
  },
  {
   "cell_type": "markdown",
   "id": "f5a7f65d",
   "metadata": {},
   "source": [
    "## 6. Итоговый вывод"
   ]
  },
  {
   "cell_type": "markdown",
   "id": "4104a566",
   "metadata": {},
   "source": [
    "В разделе «Изучение и предобработка данных» были загруженны датасеты для реализации прогнозированния оттока клиентов. При первичном осмотре обнаруженны некоторые проблемы: \n",
    "\n",
    "Для датафрейма «contract_new.csv»\n",
    " - Названия колонок не соответствуют \"змеиному\" стилю\n",
    " - В колонке \"EndDate\" значение \"No\" следует заменить на актуальную дату выгрузки данных\n",
    " - В колонках \"EndDate\" и \"BeginDate\" следует изменить тип данных на \"datetime\"\n",
    " - В колонке \"TotalCharges\" следует изменить тип данных на \"float\"\n",
    " \n",
    "Для датафрейма «personal_new.csv»\n",
    " - Названия колонок не соответствуют \"змеиному\" стилю\n",
    " - В колонке SeniorCitizen используется обозначение \"0\" и \"1\" вместо \"No\" и \"Yes\"\n",
    " \n",
    "Для датафрейма «internet_new.csv»\n",
    " - Названия колонок не соответствуют \"змеиному\" стилю\n",
    " \n",
    "Для датафрейма «phone_new.csv»\n",
    " - Названия колонок не соответствуют \"змеиному\" стилю\n",
    " \n",
    "В ходе работы данные проблемы устранены. Дубликаты, пропуски и явные выбросы не обнаруженны. Также прослеживается высокая корреляция между признаками: \n",
    "- begin_date и total_charges - 0.773659\n",
    "- begin_date и type - 0.766249\n",
    "- total_charges и monthly_charges - 0.711029\n",
    "- dependents и partner - 0.652122\n",
    "- streaming_tv и streaming_movies - 0.630406\n",
    "\n",
    "Все четыре датафрейма объеденены в один общий датафрейм. Появившиеся пропуски заменены на значения \"Unknow\". Давлены 2 колонки с информацией о длительности договора в днях - колонка \"number_of_day\" и информацией о том, активен ли договор - колонка \"leave\". Колонка \"leave\" является таргетным признаком. Удалены колонки “begin_date” и “end_date”, так как новые колонки их взаимозаменяют. Построена гистограмма для колонки \"leave\", для отображения баланса классов. На гистограмме наблюдается сильный дисбаланс классов.\n",
    "\n",
    "В разделе «Подготовка данных к обучению модели» общий датафрейм разделен на выборку с фичами и выборку с таргетным признаком. Получившиеся выборки дополнительно разделены на обучающую и тестовую выборку. Размер тестовой выборки составляет 25% от размера общего датафрейма. Для обучения были использованы 4 модели: Логистическая регрессия, Дерево решений, Случайный лес и градиентный бустинг CatBoost. Для моделей логистической регрессии, дерева решений и случайного леса были закодированы категориальные признаки методом One-Hot Encoding. Для логистической регрессии также дополнительно проведено масштабирование численных признаков. \n",
    "Для обучения использованы следующие признаки:\n",
    "- type    \n",
    "- paperless_billing  \n",
    "- payment_method       \n",
    "- monthly_charges     \n",
    "- total_charges       \n",
    "- gender     \n",
    "- senior_citizen         \n",
    "- partner      \n",
    "- dependents       \n",
    "- internet_service       \n",
    "- online_security        \n",
    "- online_backup     \n",
    "- device_protection     \n",
    "- tech_support  \n",
    "- streaming_tv    \n",
    "- streaming_movies      \n",
    "- multiple_lines\n",
    "- number_of_day\n",
    "- leave\n",
    "\n",
    "В результате обучения выявлена лучшая модель - градиентный бустинг CatBoost с гиперпараметрами: \n",
    "- 'auto_class_weights': 'Balanced'\n",
    "- 'iterations': 3000\n",
    "- 'learning_rate': 0.03\n",
    "- 'random_state': 60623\n",
    "\n",
    "Показатель ROC_AUC на обучающей выборке - 0.8821918048765603, что является показателем, который перешел необходимый порог в 0.85.\n",
    "\n",
    "На тестовой выборке модель градиентного бустинга показала достигла показателя метрики ROC_AUC – 0.916. Для финальной модели была построена матрица ошибок и проанализированы метрики, связанные с матрицей. Показатели, следующие:  \n",
    "- Полнота(Recall) - 0.69140625 - доля положительных среди всех ответов\n",
    "- Точность(Precision) - 0.6389891696750902 - количество отрицательных ответов которые нашла модель, пока искала положительные\n",
    "- F1-Мера - 0.6641651031894934 - среднее гармоническое полноты и точности\n",
    "\n",
    "Также построен график важности признаков для модели. Наиболее важным признаком для модели является информация о том о длительности договора в днях, тип договора, ежемесячные траты на услуги и общее количество трат на услуги."
   ]
  },
  {
   "cell_type": "code",
   "execution_count": null,
   "id": "21be16f8",
   "metadata": {},
   "outputs": [],
   "source": []
  }
 ],
 "metadata": {
  "ExecuteTimeLog": [
   {
    "duration": 1045,
    "start_time": "2023-06-08T16:41:31.128Z"
   },
   {
    "duration": 3,
    "start_time": "2023-06-08T16:42:03.835Z"
   },
   {
    "duration": 362,
    "start_time": "2023-06-08T16:42:04.180Z"
   },
   {
    "duration": 14,
    "start_time": "2023-06-08T16:42:06.159Z"
   },
   {
    "duration": 13,
    "start_time": "2023-06-08T16:42:08.504Z"
   }
  ],
  "kernelspec": {
   "display_name": "Python 3 (ipykernel)",
   "language": "python",
   "name": "python3"
  },
  "language_info": {
   "codemirror_mode": {
    "name": "ipython",
    "version": 3
   },
   "file_extension": ".py",
   "mimetype": "text/x-python",
   "name": "python",
   "nbconvert_exporter": "python",
   "pygments_lexer": "ipython3",
   "version": "3.9.13"
  },
  "toc": {
   "base_numbering": 1,
   "nav_menu": {},
   "number_sections": true,
   "sideBar": true,
   "skip_h1_title": true,
   "title_cell": "Table of Contents",
   "title_sidebar": "Contents",
   "toc_cell": false,
   "toc_position": {},
   "toc_section_display": true,
   "toc_window_display": false
  }
 },
 "nbformat": 4,
 "nbformat_minor": 5
}
